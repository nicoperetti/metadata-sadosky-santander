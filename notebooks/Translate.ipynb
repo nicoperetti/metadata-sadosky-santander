{
 "cells": [
  {
   "cell_type": "code",
   "execution_count": 120,
   "metadata": {},
   "outputs": [],
   "source": [
    "import pandas as pd\n",
    "from tqdm.auto import tqdm\n",
    "from googletrans import Translator"
   ]
  },
  {
   "cell_type": "code",
   "execution_count": 121,
   "metadata": {},
   "outputs": [],
   "source": [
    "translator = Translator()"
   ]
  },
  {
   "cell_type": "code",
   "execution_count": 3,
   "metadata": {},
   "outputs": [
    {
     "name": "stdout",
     "output_type": "stream",
     "text": [
      "df shape: (20104, 2)\n"
     ]
    },
    {
     "data": {
      "text/html": [
       "<div>\n",
       "<style scoped>\n",
       "    .dataframe tbody tr th:only-of-type {\n",
       "        vertical-align: middle;\n",
       "    }\n",
       "\n",
       "    .dataframe tbody tr th {\n",
       "        vertical-align: top;\n",
       "    }\n",
       "\n",
       "    .dataframe thead th {\n",
       "        text-align: right;\n",
       "    }\n",
       "</style>\n",
       "<table border=\"1\" class=\"dataframe\">\n",
       "  <thead>\n",
       "    <tr style=\"text-align: right;\">\n",
       "      <th></th>\n",
       "      <th>Pregunta</th>\n",
       "      <th>Intencion</th>\n",
       "    </tr>\n",
       "  </thead>\n",
       "  <tbody>\n",
       "    <tr>\n",
       "      <th>0</th>\n",
       "      <td>como puedo trabajar en santander rio</td>\n",
       "      <td>Cat_102</td>\n",
       "    </tr>\n",
       "    <tr>\n",
       "      <th>1</th>\n",
       "      <td>pagar tarjeta visa querer reintegro</td>\n",
       "      <td>Cat_350</td>\n",
       "    </tr>\n",
       "  </tbody>\n",
       "</table>\n",
       "</div>"
      ],
      "text/plain": [
       "                               Pregunta Intencion\n",
       "0  como puedo trabajar en santander rio   Cat_102\n",
       "1   pagar tarjeta visa querer reintegro   Cat_350"
      ]
     },
     "execution_count": 3,
     "metadata": {},
     "output_type": "execute_result"
    }
   ],
   "source": [
    "df = pd.read_csv('data/train.csv',sep = '|')\n",
    "df.columns = ['Pregunta', 'Intencion']\n",
    "print(f'df shape: {df.shape}')\n",
    "df.head(2)"
   ]
  },
  {
   "cell_type": "code",
   "execution_count": 5,
   "metadata": {},
   "outputs": [
    {
     "name": "stdout",
     "output_type": "stream",
     "text": [
      "Amount of sentences 20104\n"
     ]
    },
    {
     "data": {
      "text/plain": [
       "['como puedo trabajar en santander rio', 'pagar tarjeta visa querer reintegro']"
      ]
     },
     "execution_count": 5,
     "metadata": {},
     "output_type": "execute_result"
    }
   ],
   "source": [
    "sentences_es = list(df.Pregunta.values)\n",
    "print(f'Amount of sentences {len(sentences_es)}')\n",
    "sentences_es[:2]"
   ]
  },
  {
   "cell_type": "code",
   "execution_count": 4,
   "metadata": {},
   "outputs": [
    {
     "name": "stdout",
     "output_type": "stream",
     "text": [
      "df shape: (6702, 2)\n"
     ]
    },
    {
     "data": {
      "text/html": [
       "<div>\n",
       "<style scoped>\n",
       "    .dataframe tbody tr th:only-of-type {\n",
       "        vertical-align: middle;\n",
       "    }\n",
       "\n",
       "    .dataframe tbody tr th {\n",
       "        vertical-align: top;\n",
       "    }\n",
       "\n",
       "    .dataframe thead th {\n",
       "        text-align: right;\n",
       "    }\n",
       "</style>\n",
       "<table border=\"1\" class=\"dataframe\">\n",
       "  <thead>\n",
       "    <tr style=\"text-align: right;\">\n",
       "      <th></th>\n",
       "      <th>id</th>\n",
       "      <th>Pregunta</th>\n",
       "    </tr>\n",
       "  </thead>\n",
       "  <tbody>\n",
       "    <tr>\n",
       "      <th>0</th>\n",
       "      <td>0</td>\n",
       "      <td>querer saber tarjeta sin limite</td>\n",
       "    </tr>\n",
       "    <tr>\n",
       "      <th>1</th>\n",
       "      <td>1</td>\n",
       "      <td>¿cuál es el límite de mi tarjeta santander?</td>\n",
       "    </tr>\n",
       "  </tbody>\n",
       "</table>\n",
       "</div>"
      ],
      "text/plain": [
       "   id                                     Pregunta\n",
       "0   0              querer saber tarjeta sin limite\n",
       "1   1  ¿cuál es el límite de mi tarjeta santander?"
      ]
     },
     "execution_count": 4,
     "metadata": {},
     "output_type": "execute_result"
    }
   ],
   "source": [
    "df_test = pd.read_csv('data/test_santander.csv')\n",
    "print(f'df shape: {df_test.shape}')\n",
    "df_test.head(2)"
   ]
  },
  {
   "cell_type": "code",
   "execution_count": 9,
   "metadata": {},
   "outputs": [
    {
     "name": "stdout",
     "output_type": "stream",
     "text": [
      "Amount of sentences 6702\n"
     ]
    },
    {
     "data": {
      "text/plain": [
       "['querer saber tarjeta sin limite',\n",
       " '¿cuál es el límite de mi tarjeta santander?']"
      ]
     },
     "execution_count": 9,
     "metadata": {},
     "output_type": "execute_result"
    }
   ],
   "source": [
    "sentences_es_test = list(df_test.Pregunta.values)\n",
    "print(f'Amount of sentences {len(sentences_es_test)}')\n",
    "sentences_es_test[:2]"
   ]
  },
  {
   "cell_type": "markdown",
   "metadata": {},
   "source": [
    "## es --> fr --> es"
   ]
  },
  {
   "cell_type": "code",
   "execution_count": null,
   "metadata": {},
   "outputs": [],
   "source": [
    "translations_fr = []\n",
    "for sent in tqdm(sentences_es):\n",
    "    translation = translator.translate(sent, src=\"es\", dest=\"fr\").text\n",
    "    translations_fr.append(translation)\n",
    "print(f'Amount sentences en: {len(translations_fr)}')\n",
    "translations_fr[:2]\n",
    "\n",
    "translations_es_back = []\n",
    "for sent in tqdm(translations_fr):\n",
    "    translation = translator.translate(sent, src=\"fr\", dest=\"es\").text\n",
    "    translations_es_back.append(translation)\n",
    "print(f'Amount sentences en: {len(translations_es_back)}')\n",
    "translations_es_back[:2]"
   ]
  },
  {
   "cell_type": "code",
   "execution_count": 14,
   "metadata": {},
   "outputs": [
    {
     "data": {
      "application/vnd.jupyter.widget-view+json": {
       "model_id": "1a898cb8c4264bab9a5ce35fca675d0f",
       "version_major": 2,
       "version_minor": 0
      },
      "text/plain": [
       "HBox(children=(IntProgress(value=0, max=6702), HTML(value='')))"
      ]
     },
     "metadata": {},
     "output_type": "display_data"
    },
    {
     "name": "stdout",
     "output_type": "stream",
     "text": [
      "\n",
      "Amount sentences en: 6702\n"
     ]
    },
    {
     "data": {
      "application/vnd.jupyter.widget-view+json": {
       "model_id": "dec6e9191a3b4c2dbe3656a56c5bd2e8",
       "version_major": 2,
       "version_minor": 0
      },
      "text/plain": [
       "HBox(children=(IntProgress(value=0, max=6702), HTML(value='')))"
      ]
     },
     "metadata": {},
     "output_type": "display_data"
    },
    {
     "name": "stdout",
     "output_type": "stream",
     "text": [
      "\n",
      "Amount sentences en: 6702\n"
     ]
    }
   ],
   "source": [
    "df[\"Pregunta_T2_fr\"] = translations_es_back\n",
    "\n",
    "translations_fr = []\n",
    "for sent in tqdm(sentences_es_test):\n",
    "    translation = translator.translate(sent, src=\"es\", dest=\"fr\").text\n",
    "    translations_fr.append(translation)\n",
    "print(f'Amount sentences en: {len(translations_fr)}')\n",
    "translations_fr[:2]\n",
    "\n",
    "translations_es_back = []\n",
    "for sent in tqdm(translations_fr):\n",
    "    translation = translator.translate(sent, src=\"fr\", dest=\"es\").text\n",
    "    translations_es_back.append(translation)\n",
    "print(f'Amount sentences en: {len(translations_es_back)}')\n",
    "translations_es_back[:2]\n",
    "\n",
    "df_test[\"Pregunta_T2_fr\"] = translations_es_back"
   ]
  },
  {
   "cell_type": "code",
   "execution_count": 19,
   "metadata": {},
   "outputs": [],
   "source": [
    "df.to_csv(\"data/train_translation_fr.csv\", index=False)\n",
    "df_test.to_csv(\"data/test_translation_fr.csv\", index=False)"
   ]
  },
  {
   "cell_type": "code",
   "execution_count": 21,
   "metadata": {},
   "outputs": [
    {
     "name": "stdout",
     "output_type": "stream",
     "text": [
      "Requirement already satisfied: joblib in /Users/nico/miniconda3/envs/keras/lib/python3.7/site-packages (0.13.2)\r\n"
     ]
    }
   ],
   "source": [
    "!pip install joblib"
   ]
  },
  {
   "cell_type": "code",
   "execution_count": 25,
   "metadata": {},
   "outputs": [],
   "source": [
    "from textacy.preprocess import preprocess_text as textacy_preprocess\n",
    "import re"
   ]
  },
  {
   "cell_type": "code",
   "execution_count": null,
   "metadata": {},
   "outputs": [],
   "source": [
    "EMOJI_PATTERN = re.compile(\"[\"\n",
    "                           u\"\\U0001F600-\\U0001F64F\"  # emoticons\n",
    "                           u\"\\U0001F300-\\U0001F5FF\"  # symbols & pictographs\n",
    "                           u\"\\U0001F680-\\U0001F6FF\"  # transport & map symbols\n",
    "                           u\"\\U0001F1E0-\\U0001F1FF\"  # flags (iOS)\n",
    "                           \"]+\", flags=re.UNICODE)\n",
    "\n",
    "\n",
    "def remove_stopwords(text):\n",
    "    \"\"\"Remove stop words from list of tokenized words.\"\"\"\n",
    "    new_words = [word for word in text.split() if word not in STOPWORDS_SET]\n",
    "    return ' '.join(new_words)\n",
    "\n",
    "\n",
    "def remove_emoticons(text):\n",
    "    \"\"\"Remove emoticos.\"\"\"\n",
    "    return EMOJI_PATTERN.sub('', text)\n",
    "\n",
    "\n",
    "def to_lowercase(text):\n",
    "    \"\"\"To lowercase.\"\"\"\n",
    "    return text.lower()\n",
    "\n",
    "\n",
    "def preprocess_text(text, fix_unicode=True, lowercase=True,\n",
    "                    no_urls=True, no_emails=True,\n",
    "                    no_phone_numbers=True,\n",
    "                    no_numbers=True, no_currency_symbols=True,\n",
    "                    no_punct=True, no_accents=True):\n",
    "    \"\"\"Preprocess text.\"\"\"\n",
    "    clean_text = \"\"\n",
    "    if text:\n",
    "        clean_text = remove_emoticons(text)\n",
    "        if lowercase:\n",
    "            clean_text = to_lowercase(clean_text)\n",
    "#        clean_text = remove_stopwords(clean_text)\n",
    "        clean_text = textacy_preprocess(clean_text, fix_unicode=fix_unicode,\n",
    "                                        lowercase=lowercase,\n",
    "                                        no_urls=no_urls, no_emails=no_emails,\n",
    "                                        no_phone_numbers=no_phone_numbers,\n",
    "                                        no_numbers=no_numbers,\n",
    "                                        no_currency_symbols=no_currency_symbols,\n",
    "                                        no_punct=no_punct,\n",
    "                                        no_accents=no_accents)\n",
    "    return clean_text"
   ]
  },
  {
   "cell_type": "code",
   "execution_count": 27,
   "metadata": {},
   "outputs": [
    {
     "data": {
      "text/html": [
       "<div>\n",
       "<style scoped>\n",
       "    .dataframe tbody tr th:only-of-type {\n",
       "        vertical-align: middle;\n",
       "    }\n",
       "\n",
       "    .dataframe tbody tr th {\n",
       "        vertical-align: top;\n",
       "    }\n",
       "\n",
       "    .dataframe thead th {\n",
       "        text-align: right;\n",
       "    }\n",
       "</style>\n",
       "<table border=\"1\" class=\"dataframe\">\n",
       "  <thead>\n",
       "    <tr style=\"text-align: right;\">\n",
       "      <th></th>\n",
       "      <th>Pregunta</th>\n",
       "      <th>Intencion</th>\n",
       "      <th>Pregunta_T2_fr</th>\n",
       "    </tr>\n",
       "  </thead>\n",
       "  <tbody>\n",
       "    <tr>\n",
       "      <th>0</th>\n",
       "      <td>como puedo trabajar en santander rio</td>\n",
       "      <td>Cat_102</td>\n",
       "      <td>¿Cómo puedo trabajar en Santander Rio?</td>\n",
       "    </tr>\n",
       "    <tr>\n",
       "      <th>1</th>\n",
       "      <td>pagar tarjeta visa querer reintegro</td>\n",
       "      <td>Cat_350</td>\n",
       "      <td>pagar la tarjeta visa quiere un reembolso</td>\n",
       "    </tr>\n",
       "    <tr>\n",
       "      <th>2</th>\n",
       "      <td>pagar tarjeta naranja sistema</td>\n",
       "      <td>Cat_132</td>\n",
       "      <td>sistema de pago con tarjeta naranja</td>\n",
       "    </tr>\n",
       "    <tr>\n",
       "      <th>3</th>\n",
       "      <td>no se debitó la primera cuota del plan de bien...</td>\n",
       "      <td>Cat_129</td>\n",
       "      <td>la primera parte del plan de propiedad persona...</td>\n",
       "    </tr>\n",
       "    <tr>\n",
       "      <th>4</th>\n",
       "      <td>abonar tarjeta credito</td>\n",
       "      <td>Cat_342</td>\n",
       "      <td>tarjeta de crédito</td>\n",
       "    </tr>\n",
       "  </tbody>\n",
       "</table>\n",
       "</div>"
      ],
      "text/plain": [
       "                                            Pregunta Intencion  \\\n",
       "0               como puedo trabajar en santander rio   Cat_102   \n",
       "1                pagar tarjeta visa querer reintegro   Cat_350   \n",
       "2                      pagar tarjeta naranja sistema   Cat_132   \n",
       "3  no se debitó la primera cuota del plan de bien...   Cat_129   \n",
       "4                             abonar tarjeta credito   Cat_342   \n",
       "\n",
       "                                      Pregunta_T2_fr  \n",
       "0             ¿Cómo puedo trabajar en Santander Rio?  \n",
       "1          pagar la tarjeta visa quiere un reembolso  \n",
       "2                sistema de pago con tarjeta naranja  \n",
       "3  la primera parte del plan de propiedad persona...  \n",
       "4                                 tarjeta de crédito  "
      ]
     },
     "execution_count": 27,
     "metadata": {},
     "output_type": "execute_result"
    }
   ],
   "source": [
    "df.head()"
   ]
  },
  {
   "cell_type": "code",
   "execution_count": 28,
   "metadata": {},
   "outputs": [],
   "source": [
    "df[\"clean_txt_T2_fr\"] = df[\"Pregunta_T2_fr\"].apply(lambda x: preprocess_text(x))"
   ]
  },
  {
   "cell_type": "code",
   "execution_count": 29,
   "metadata": {},
   "outputs": [
    {
     "data": {
      "text/html": [
       "<div>\n",
       "<style scoped>\n",
       "    .dataframe tbody tr th:only-of-type {\n",
       "        vertical-align: middle;\n",
       "    }\n",
       "\n",
       "    .dataframe tbody tr th {\n",
       "        vertical-align: top;\n",
       "    }\n",
       "\n",
       "    .dataframe thead th {\n",
       "        text-align: right;\n",
       "    }\n",
       "</style>\n",
       "<table border=\"1\" class=\"dataframe\">\n",
       "  <thead>\n",
       "    <tr style=\"text-align: right;\">\n",
       "      <th></th>\n",
       "      <th>Pregunta</th>\n",
       "      <th>Intencion</th>\n",
       "      <th>Pregunta_T2_fr</th>\n",
       "      <th>clean_txt_T2_fr</th>\n",
       "    </tr>\n",
       "  </thead>\n",
       "  <tbody>\n",
       "    <tr>\n",
       "      <th>0</th>\n",
       "      <td>como puedo trabajar en santander rio</td>\n",
       "      <td>Cat_102</td>\n",
       "      <td>¿Cómo puedo trabajar en Santander Rio?</td>\n",
       "      <td>como puedo trabajar en santander rio</td>\n",
       "    </tr>\n",
       "    <tr>\n",
       "      <th>1</th>\n",
       "      <td>pagar tarjeta visa querer reintegro</td>\n",
       "      <td>Cat_350</td>\n",
       "      <td>pagar la tarjeta visa quiere un reembolso</td>\n",
       "      <td>pagar la tarjeta visa quiere un reembolso</td>\n",
       "    </tr>\n",
       "    <tr>\n",
       "      <th>2</th>\n",
       "      <td>pagar tarjeta naranja sistema</td>\n",
       "      <td>Cat_132</td>\n",
       "      <td>sistema de pago con tarjeta naranja</td>\n",
       "      <td>sistema de pago con tarjeta naranja</td>\n",
       "    </tr>\n",
       "    <tr>\n",
       "      <th>3</th>\n",
       "      <td>no se debitó la primera cuota del plan de bien...</td>\n",
       "      <td>Cat_129</td>\n",
       "      <td>la primera parte del plan de propiedad persona...</td>\n",
       "      <td>la primera parte del plan de propiedad persona...</td>\n",
       "    </tr>\n",
       "    <tr>\n",
       "      <th>4</th>\n",
       "      <td>abonar tarjeta credito</td>\n",
       "      <td>Cat_342</td>\n",
       "      <td>tarjeta de crédito</td>\n",
       "      <td>tarjeta de credito</td>\n",
       "    </tr>\n",
       "  </tbody>\n",
       "</table>\n",
       "</div>"
      ],
      "text/plain": [
       "                                            Pregunta Intencion  \\\n",
       "0               como puedo trabajar en santander rio   Cat_102   \n",
       "1                pagar tarjeta visa querer reintegro   Cat_350   \n",
       "2                      pagar tarjeta naranja sistema   Cat_132   \n",
       "3  no se debitó la primera cuota del plan de bien...   Cat_129   \n",
       "4                             abonar tarjeta credito   Cat_342   \n",
       "\n",
       "                                      Pregunta_T2_fr  \\\n",
       "0             ¿Cómo puedo trabajar en Santander Rio?   \n",
       "1          pagar la tarjeta visa quiere un reembolso   \n",
       "2                sistema de pago con tarjeta naranja   \n",
       "3  la primera parte del plan de propiedad persona...   \n",
       "4                                 tarjeta de crédito   \n",
       "\n",
       "                                     clean_txt_T2_fr  \n",
       "0               como puedo trabajar en santander rio  \n",
       "1          pagar la tarjeta visa quiere un reembolso  \n",
       "2                sistema de pago con tarjeta naranja  \n",
       "3  la primera parte del plan de propiedad persona...  \n",
       "4                                 tarjeta de credito  "
      ]
     },
     "execution_count": 29,
     "metadata": {},
     "output_type": "execute_result"
    }
   ],
   "source": [
    "df.head()"
   ]
  },
  {
   "cell_type": "code",
   "execution_count": 30,
   "metadata": {},
   "outputs": [],
   "source": [
    "df_train = pd.read_csv(\"data/train_with_translations_clean.csv\")"
   ]
  },
  {
   "cell_type": "code",
   "execution_count": 31,
   "metadata": {},
   "outputs": [
    {
     "data": {
      "text/html": [
       "<div>\n",
       "<style scoped>\n",
       "    .dataframe tbody tr th:only-of-type {\n",
       "        vertical-align: middle;\n",
       "    }\n",
       "\n",
       "    .dataframe tbody tr th {\n",
       "        vertical-align: top;\n",
       "    }\n",
       "\n",
       "    .dataframe thead th {\n",
       "        text-align: right;\n",
       "    }\n",
       "</style>\n",
       "<table border=\"1\" class=\"dataframe\">\n",
       "  <thead>\n",
       "    <tr style=\"text-align: right;\">\n",
       "      <th></th>\n",
       "      <th>Pregunta</th>\n",
       "      <th>Intencion</th>\n",
       "      <th>Pregunta_T1</th>\n",
       "      <th>clean_txt</th>\n",
       "      <th>clean_txt_T1</th>\n",
       "    </tr>\n",
       "  </thead>\n",
       "  <tbody>\n",
       "    <tr>\n",
       "      <th>0</th>\n",
       "      <td>como puedo trabajar en santander rio</td>\n",
       "      <td>Cat_102</td>\n",
       "      <td>¿Cómo puedo trabajar en Santander Rio?</td>\n",
       "      <td>como puedo trabajar en santander rio</td>\n",
       "      <td>como puedo trabajar en santander rio</td>\n",
       "    </tr>\n",
       "    <tr>\n",
       "      <th>1</th>\n",
       "      <td>pagar tarjeta visa querer reintegro</td>\n",
       "      <td>Cat_350</td>\n",
       "      <td>pagar tarjeta visa quiere reembolso</td>\n",
       "      <td>pagar tarjeta visa querer reintegro</td>\n",
       "      <td>pagar tarjeta visa quiere reembolso</td>\n",
       "    </tr>\n",
       "    <tr>\n",
       "      <th>2</th>\n",
       "      <td>pagar tarjeta naranja sistema</td>\n",
       "      <td>Cat_132</td>\n",
       "      <td>tarjeta naranja del sistema de pago</td>\n",
       "      <td>pagar tarjeta naranja sistema</td>\n",
       "      <td>tarjeta naranja del sistema de pago</td>\n",
       "    </tr>\n",
       "    <tr>\n",
       "      <th>3</th>\n",
       "      <td>no se debitó la primera cuota del plan de bien...</td>\n",
       "      <td>Cat_129</td>\n",
       "      <td>la primera cuota del plan de propiedad persona...</td>\n",
       "      <td>no se debito la primera cuota del plan de bien...</td>\n",
       "      <td>la primera cuota del plan de propiedad persona...</td>\n",
       "    </tr>\n",
       "    <tr>\n",
       "      <th>4</th>\n",
       "      <td>abonar tarjeta credito</td>\n",
       "      <td>Cat_342</td>\n",
       "      <td>tarjeta de crédito</td>\n",
       "      <td>abonar tarjeta credito</td>\n",
       "      <td>tarjeta de credito</td>\n",
       "    </tr>\n",
       "  </tbody>\n",
       "</table>\n",
       "</div>"
      ],
      "text/plain": [
       "                                            Pregunta Intencion  \\\n",
       "0               como puedo trabajar en santander rio   Cat_102   \n",
       "1                pagar tarjeta visa querer reintegro   Cat_350   \n",
       "2                      pagar tarjeta naranja sistema   Cat_132   \n",
       "3  no se debitó la primera cuota del plan de bien...   Cat_129   \n",
       "4                             abonar tarjeta credito   Cat_342   \n",
       "\n",
       "                                         Pregunta_T1  \\\n",
       "0             ¿Cómo puedo trabajar en Santander Rio?   \n",
       "1                pagar tarjeta visa quiere reembolso   \n",
       "2                tarjeta naranja del sistema de pago   \n",
       "3  la primera cuota del plan de propiedad persona...   \n",
       "4                                 tarjeta de crédito   \n",
       "\n",
       "                                           clean_txt  \\\n",
       "0               como puedo trabajar en santander rio   \n",
       "1                pagar tarjeta visa querer reintegro   \n",
       "2                      pagar tarjeta naranja sistema   \n",
       "3  no se debito la primera cuota del plan de bien...   \n",
       "4                             abonar tarjeta credito   \n",
       "\n",
       "                                        clean_txt_T1  \n",
       "0               como puedo trabajar en santander rio  \n",
       "1                pagar tarjeta visa quiere reembolso  \n",
       "2                tarjeta naranja del sistema de pago  \n",
       "3  la primera cuota del plan de propiedad persona...  \n",
       "4                                 tarjeta de credito  "
      ]
     },
     "execution_count": 31,
     "metadata": {},
     "output_type": "execute_result"
    }
   ],
   "source": [
    "df_train.head()"
   ]
  },
  {
   "cell_type": "code",
   "execution_count": 32,
   "metadata": {},
   "outputs": [],
   "source": [
    "df_train[\"Pregunta_T2_fr\"] = df[\"Pregunta_T2_fr\"]\n",
    "df_train[\"clean_txt_T2_fr\"] = df[\"clean_txt_T2_fr\"]"
   ]
  },
  {
   "cell_type": "code",
   "execution_count": 33,
   "metadata": {},
   "outputs": [
    {
     "data": {
      "text/html": [
       "<div>\n",
       "<style scoped>\n",
       "    .dataframe tbody tr th:only-of-type {\n",
       "        vertical-align: middle;\n",
       "    }\n",
       "\n",
       "    .dataframe tbody tr th {\n",
       "        vertical-align: top;\n",
       "    }\n",
       "\n",
       "    .dataframe thead th {\n",
       "        text-align: right;\n",
       "    }\n",
       "</style>\n",
       "<table border=\"1\" class=\"dataframe\">\n",
       "  <thead>\n",
       "    <tr style=\"text-align: right;\">\n",
       "      <th></th>\n",
       "      <th>Pregunta</th>\n",
       "      <th>Intencion</th>\n",
       "      <th>Pregunta_T1</th>\n",
       "      <th>clean_txt</th>\n",
       "      <th>clean_txt_T1</th>\n",
       "      <th>Pregunta_T2_fr</th>\n",
       "      <th>clean_txt_T2_fr</th>\n",
       "    </tr>\n",
       "  </thead>\n",
       "  <tbody>\n",
       "    <tr>\n",
       "      <th>0</th>\n",
       "      <td>como puedo trabajar en santander rio</td>\n",
       "      <td>Cat_102</td>\n",
       "      <td>¿Cómo puedo trabajar en Santander Rio?</td>\n",
       "      <td>como puedo trabajar en santander rio</td>\n",
       "      <td>como puedo trabajar en santander rio</td>\n",
       "      <td>¿Cómo puedo trabajar en Santander Rio?</td>\n",
       "      <td>como puedo trabajar en santander rio</td>\n",
       "    </tr>\n",
       "    <tr>\n",
       "      <th>1</th>\n",
       "      <td>pagar tarjeta visa querer reintegro</td>\n",
       "      <td>Cat_350</td>\n",
       "      <td>pagar tarjeta visa quiere reembolso</td>\n",
       "      <td>pagar tarjeta visa querer reintegro</td>\n",
       "      <td>pagar tarjeta visa quiere reembolso</td>\n",
       "      <td>pagar la tarjeta visa quiere un reembolso</td>\n",
       "      <td>pagar la tarjeta visa quiere un reembolso</td>\n",
       "    </tr>\n",
       "    <tr>\n",
       "      <th>2</th>\n",
       "      <td>pagar tarjeta naranja sistema</td>\n",
       "      <td>Cat_132</td>\n",
       "      <td>tarjeta naranja del sistema de pago</td>\n",
       "      <td>pagar tarjeta naranja sistema</td>\n",
       "      <td>tarjeta naranja del sistema de pago</td>\n",
       "      <td>sistema de pago con tarjeta naranja</td>\n",
       "      <td>sistema de pago con tarjeta naranja</td>\n",
       "    </tr>\n",
       "    <tr>\n",
       "      <th>3</th>\n",
       "      <td>no se debitó la primera cuota del plan de bien...</td>\n",
       "      <td>Cat_129</td>\n",
       "      <td>la primera cuota del plan de propiedad persona...</td>\n",
       "      <td>no se debito la primera cuota del plan de bien...</td>\n",
       "      <td>la primera cuota del plan de propiedad persona...</td>\n",
       "      <td>la primera parte del plan de propiedad persona...</td>\n",
       "      <td>la primera parte del plan de propiedad persona...</td>\n",
       "    </tr>\n",
       "    <tr>\n",
       "      <th>4</th>\n",
       "      <td>abonar tarjeta credito</td>\n",
       "      <td>Cat_342</td>\n",
       "      <td>tarjeta de crédito</td>\n",
       "      <td>abonar tarjeta credito</td>\n",
       "      <td>tarjeta de credito</td>\n",
       "      <td>tarjeta de crédito</td>\n",
       "      <td>tarjeta de credito</td>\n",
       "    </tr>\n",
       "  </tbody>\n",
       "</table>\n",
       "</div>"
      ],
      "text/plain": [
       "                                            Pregunta Intencion  \\\n",
       "0               como puedo trabajar en santander rio   Cat_102   \n",
       "1                pagar tarjeta visa querer reintegro   Cat_350   \n",
       "2                      pagar tarjeta naranja sistema   Cat_132   \n",
       "3  no se debitó la primera cuota del plan de bien...   Cat_129   \n",
       "4                             abonar tarjeta credito   Cat_342   \n",
       "\n",
       "                                         Pregunta_T1  \\\n",
       "0             ¿Cómo puedo trabajar en Santander Rio?   \n",
       "1                pagar tarjeta visa quiere reembolso   \n",
       "2                tarjeta naranja del sistema de pago   \n",
       "3  la primera cuota del plan de propiedad persona...   \n",
       "4                                 tarjeta de crédito   \n",
       "\n",
       "                                           clean_txt  \\\n",
       "0               como puedo trabajar en santander rio   \n",
       "1                pagar tarjeta visa querer reintegro   \n",
       "2                      pagar tarjeta naranja sistema   \n",
       "3  no se debito la primera cuota del plan de bien...   \n",
       "4                             abonar tarjeta credito   \n",
       "\n",
       "                                        clean_txt_T1  \\\n",
       "0               como puedo trabajar en santander rio   \n",
       "1                pagar tarjeta visa quiere reembolso   \n",
       "2                tarjeta naranja del sistema de pago   \n",
       "3  la primera cuota del plan de propiedad persona...   \n",
       "4                                 tarjeta de credito   \n",
       "\n",
       "                                      Pregunta_T2_fr  \\\n",
       "0             ¿Cómo puedo trabajar en Santander Rio?   \n",
       "1          pagar la tarjeta visa quiere un reembolso   \n",
       "2                sistema de pago con tarjeta naranja   \n",
       "3  la primera parte del plan de propiedad persona...   \n",
       "4                                 tarjeta de crédito   \n",
       "\n",
       "                                     clean_txt_T2_fr  \n",
       "0               como puedo trabajar en santander rio  \n",
       "1          pagar la tarjeta visa quiere un reembolso  \n",
       "2                sistema de pago con tarjeta naranja  \n",
       "3  la primera parte del plan de propiedad persona...  \n",
       "4                                 tarjeta de credito  "
      ]
     },
     "execution_count": 33,
     "metadata": {},
     "output_type": "execute_result"
    }
   ],
   "source": [
    "df_train.head()"
   ]
  },
  {
   "cell_type": "code",
   "execution_count": 34,
   "metadata": {},
   "outputs": [],
   "source": [
    "df_test_es_en = pd.read_csv(\"data/test_with_translations_clean.csv\")"
   ]
  },
  {
   "cell_type": "code",
   "execution_count": 39,
   "metadata": {},
   "outputs": [],
   "source": [
    "df_test[\"clean_txt_T2_fr\"] = df_test[\"Pregunta_T2_fr\"].apply(lambda x: preprocess_text(x))"
   ]
  },
  {
   "cell_type": "code",
   "execution_count": 40,
   "metadata": {},
   "outputs": [
    {
     "data": {
      "text/html": [
       "<div>\n",
       "<style scoped>\n",
       "    .dataframe tbody tr th:only-of-type {\n",
       "        vertical-align: middle;\n",
       "    }\n",
       "\n",
       "    .dataframe tbody tr th {\n",
       "        vertical-align: top;\n",
       "    }\n",
       "\n",
       "    .dataframe thead th {\n",
       "        text-align: right;\n",
       "    }\n",
       "</style>\n",
       "<table border=\"1\" class=\"dataframe\">\n",
       "  <thead>\n",
       "    <tr style=\"text-align: right;\">\n",
       "      <th></th>\n",
       "      <th>id</th>\n",
       "      <th>Pregunta</th>\n",
       "      <th>Pregunta_T2_fr</th>\n",
       "      <th>clean_txt_T2_fr</th>\n",
       "    </tr>\n",
       "  </thead>\n",
       "  <tbody>\n",
       "    <tr>\n",
       "      <th>0</th>\n",
       "      <td>0</td>\n",
       "      <td>querer saber tarjeta sin limite</td>\n",
       "      <td>quiero saber la tarjeta sin limite</td>\n",
       "      <td>quiero saber la tarjeta sin limite</td>\n",
       "    </tr>\n",
       "    <tr>\n",
       "      <th>1</th>\n",
       "      <td>1</td>\n",
       "      <td>¿cuál es el límite de mi tarjeta santander?</td>\n",
       "      <td>¿Cuál es el límite de mi tarjeta santander?</td>\n",
       "      <td>cual es el limite de mi tarjeta santander</td>\n",
       "    </tr>\n",
       "    <tr>\n",
       "      <th>2</th>\n",
       "      <td>2</td>\n",
       "      <td>hay beneficios en restaurantes de la costa atl...</td>\n",
       "      <td>¿Hay ventajas en los restaurantes de la costa ...</td>\n",
       "      <td>hay ventajas en los restaurantes de la costa a...</td>\n",
       "    </tr>\n",
       "    <tr>\n",
       "      <th>3</th>\n",
       "      <td>3</td>\n",
       "      <td>semana realizar pagar afip monotributo volver ...</td>\n",
       "      <td>semana recibir el pago de una declaración de i...</td>\n",
       "      <td>semana recibir el pago de una declaracion de i...</td>\n",
       "    </tr>\n",
       "    <tr>\n",
       "      <th>4</th>\n",
       "      <td>4</td>\n",
       "      <td>por un prestamo de mil. cuanto es el interes?</td>\n",
       "      <td>por un préstamo de mil. cual es el punto</td>\n",
       "      <td>por un prestamo de mil cual es el punto</td>\n",
       "    </tr>\n",
       "  </tbody>\n",
       "</table>\n",
       "</div>"
      ],
      "text/plain": [
       "   id                                           Pregunta  \\\n",
       "0   0                    querer saber tarjeta sin limite   \n",
       "1   1        ¿cuál es el límite de mi tarjeta santander?   \n",
       "2   2  hay beneficios en restaurantes de la costa atl...   \n",
       "3   3  semana realizar pagar afip monotributo volver ...   \n",
       "4   4      por un prestamo de mil. cuanto es el interes?   \n",
       "\n",
       "                                      Pregunta_T2_fr  \\\n",
       "0                 quiero saber la tarjeta sin limite   \n",
       "1        ¿Cuál es el límite de mi tarjeta santander?   \n",
       "2  ¿Hay ventajas en los restaurantes de la costa ...   \n",
       "3  semana recibir el pago de una declaración de i...   \n",
       "4           por un préstamo de mil. cual es el punto   \n",
       "\n",
       "                                     clean_txt_T2_fr  \n",
       "0                 quiero saber la tarjeta sin limite  \n",
       "1          cual es el limite de mi tarjeta santander  \n",
       "2  hay ventajas en los restaurantes de la costa a...  \n",
       "3  semana recibir el pago de una declaracion de i...  \n",
       "4            por un prestamo de mil cual es el punto  "
      ]
     },
     "execution_count": 40,
     "metadata": {},
     "output_type": "execute_result"
    }
   ],
   "source": [
    "df_test.head()"
   ]
  },
  {
   "cell_type": "code",
   "execution_count": 41,
   "metadata": {},
   "outputs": [],
   "source": [
    "df_test_es_en[\"Pregunta_T2_fr\"] = df_test[\"Pregunta_T2_fr\"]\n",
    "df_test_es_en[\"clean_txt_T2_fr\"] = df_test[\"clean_txt_T2_fr\"]"
   ]
  },
  {
   "cell_type": "code",
   "execution_count": 42,
   "metadata": {},
   "outputs": [
    {
     "data": {
      "text/html": [
       "<div>\n",
       "<style scoped>\n",
       "    .dataframe tbody tr th:only-of-type {\n",
       "        vertical-align: middle;\n",
       "    }\n",
       "\n",
       "    .dataframe tbody tr th {\n",
       "        vertical-align: top;\n",
       "    }\n",
       "\n",
       "    .dataframe thead th {\n",
       "        text-align: right;\n",
       "    }\n",
       "</style>\n",
       "<table border=\"1\" class=\"dataframe\">\n",
       "  <thead>\n",
       "    <tr style=\"text-align: right;\">\n",
       "      <th></th>\n",
       "      <th>id</th>\n",
       "      <th>Pregunta</th>\n",
       "      <th>Pregunta_T1</th>\n",
       "      <th>clean_txt</th>\n",
       "      <th>clean_txt_T1</th>\n",
       "      <th>Pregunta_T2_fr</th>\n",
       "      <th>clean_txt_T2_fr</th>\n",
       "    </tr>\n",
       "  </thead>\n",
       "  <tbody>\n",
       "    <tr>\n",
       "      <th>0</th>\n",
       "      <td>0</td>\n",
       "      <td>querer saber tarjeta sin limite</td>\n",
       "      <td>quiero saber tarjeta sin límite</td>\n",
       "      <td>querer saber tarjeta sin limite</td>\n",
       "      <td>quiero saber tarjeta sin limite</td>\n",
       "      <td>quiero saber la tarjeta sin limite</td>\n",
       "      <td>quiero saber la tarjeta sin limite</td>\n",
       "    </tr>\n",
       "    <tr>\n",
       "      <th>1</th>\n",
       "      <td>1</td>\n",
       "      <td>¿cuál es el límite de mi tarjeta santander?</td>\n",
       "      <td>¿Cuál es el límite de mi tarjeta santander?</td>\n",
       "      <td>cual es el limite de mi tarjeta santander</td>\n",
       "      <td>cual es el limite de mi tarjeta santander</td>\n",
       "      <td>¿Cuál es el límite de mi tarjeta santander?</td>\n",
       "      <td>cual es el limite de mi tarjeta santander</td>\n",
       "    </tr>\n",
       "    <tr>\n",
       "      <th>2</th>\n",
       "      <td>2</td>\n",
       "      <td>hay beneficios en restaurantes de la costa atl...</td>\n",
       "      <td>¿Hay beneficios en los restaurantes de la cost...</td>\n",
       "      <td>hay beneficios en restaurantes de la costa atl...</td>\n",
       "      <td>hay beneficios en los restaurantes de la costa...</td>\n",
       "      <td>¿Hay ventajas en los restaurantes de la costa ...</td>\n",
       "      <td>hay ventajas en los restaurantes de la costa a...</td>\n",
       "    </tr>\n",
       "    <tr>\n",
       "      <th>3</th>\n",
       "      <td>3</td>\n",
       "      <td>semana realizar pagar afip monotributo volver ...</td>\n",
       "      <td>la semana hace que pague la declaración de imp...</td>\n",
       "      <td>semana realizar pagar afip monotributo volver ...</td>\n",
       "      <td>la semana hace que pague la declaracion de imp...</td>\n",
       "      <td>semana recibir el pago de una declaración de i...</td>\n",
       "      <td>semana recibir el pago de una declaracion de i...</td>\n",
       "    </tr>\n",
       "    <tr>\n",
       "      <th>4</th>\n",
       "      <td>4</td>\n",
       "      <td>por un prestamo de mil. cuanto es el interes?</td>\n",
       "      <td>por un préstamo de mil. cuanto es el interes</td>\n",
       "      <td>por un prestamo de mil cuanto es el interes</td>\n",
       "      <td>por un prestamo de mil cuanto es el interes</td>\n",
       "      <td>por un préstamo de mil. cual es el punto</td>\n",
       "      <td>por un prestamo de mil cual es el punto</td>\n",
       "    </tr>\n",
       "  </tbody>\n",
       "</table>\n",
       "</div>"
      ],
      "text/plain": [
       "   id                                           Pregunta  \\\n",
       "0   0                    querer saber tarjeta sin limite   \n",
       "1   1        ¿cuál es el límite de mi tarjeta santander?   \n",
       "2   2  hay beneficios en restaurantes de la costa atl...   \n",
       "3   3  semana realizar pagar afip monotributo volver ...   \n",
       "4   4      por un prestamo de mil. cuanto es el interes?   \n",
       "\n",
       "                                         Pregunta_T1  \\\n",
       "0                    quiero saber tarjeta sin límite   \n",
       "1        ¿Cuál es el límite de mi tarjeta santander?   \n",
       "2  ¿Hay beneficios en los restaurantes de la cost...   \n",
       "3  la semana hace que pague la declaración de imp...   \n",
       "4       por un préstamo de mil. cuanto es el interes   \n",
       "\n",
       "                                           clean_txt  \\\n",
       "0                    querer saber tarjeta sin limite   \n",
       "1          cual es el limite de mi tarjeta santander   \n",
       "2  hay beneficios en restaurantes de la costa atl...   \n",
       "3  semana realizar pagar afip monotributo volver ...   \n",
       "4        por un prestamo de mil cuanto es el interes   \n",
       "\n",
       "                                        clean_txt_T1  \\\n",
       "0                    quiero saber tarjeta sin limite   \n",
       "1          cual es el limite de mi tarjeta santander   \n",
       "2  hay beneficios en los restaurantes de la costa...   \n",
       "3  la semana hace que pague la declaracion de imp...   \n",
       "4        por un prestamo de mil cuanto es el interes   \n",
       "\n",
       "                                      Pregunta_T2_fr  \\\n",
       "0                 quiero saber la tarjeta sin limite   \n",
       "1        ¿Cuál es el límite de mi tarjeta santander?   \n",
       "2  ¿Hay ventajas en los restaurantes de la costa ...   \n",
       "3  semana recibir el pago de una declaración de i...   \n",
       "4           por un préstamo de mil. cual es el punto   \n",
       "\n",
       "                                     clean_txt_T2_fr  \n",
       "0                 quiero saber la tarjeta sin limite  \n",
       "1          cual es el limite de mi tarjeta santander  \n",
       "2  hay ventajas en los restaurantes de la costa a...  \n",
       "3  semana recibir el pago de una declaracion de i...  \n",
       "4            por un prestamo de mil cual es el punto  "
      ]
     },
     "execution_count": 42,
     "metadata": {},
     "output_type": "execute_result"
    }
   ],
   "source": [
    "df_test_es_en.head()"
   ]
  },
  {
   "cell_type": "code",
   "execution_count": 43,
   "metadata": {},
   "outputs": [
    {
     "data": {
      "text/html": [
       "<div>\n",
       "<style scoped>\n",
       "    .dataframe tbody tr th:only-of-type {\n",
       "        vertical-align: middle;\n",
       "    }\n",
       "\n",
       "    .dataframe tbody tr th {\n",
       "        vertical-align: top;\n",
       "    }\n",
       "\n",
       "    .dataframe thead th {\n",
       "        text-align: right;\n",
       "    }\n",
       "</style>\n",
       "<table border=\"1\" class=\"dataframe\">\n",
       "  <thead>\n",
       "    <tr style=\"text-align: right;\">\n",
       "      <th></th>\n",
       "      <th>Pregunta</th>\n",
       "      <th>Intencion</th>\n",
       "      <th>Pregunta_T1</th>\n",
       "      <th>clean_txt</th>\n",
       "      <th>clean_txt_T1</th>\n",
       "      <th>Pregunta_T2_fr</th>\n",
       "      <th>clean_txt_T2_fr</th>\n",
       "    </tr>\n",
       "  </thead>\n",
       "  <tbody>\n",
       "    <tr>\n",
       "      <th>0</th>\n",
       "      <td>como puedo trabajar en santander rio</td>\n",
       "      <td>Cat_102</td>\n",
       "      <td>¿Cómo puedo trabajar en Santander Rio?</td>\n",
       "      <td>como puedo trabajar en santander rio</td>\n",
       "      <td>como puedo trabajar en santander rio</td>\n",
       "      <td>¿Cómo puedo trabajar en Santander Rio?</td>\n",
       "      <td>como puedo trabajar en santander rio</td>\n",
       "    </tr>\n",
       "    <tr>\n",
       "      <th>1</th>\n",
       "      <td>pagar tarjeta visa querer reintegro</td>\n",
       "      <td>Cat_350</td>\n",
       "      <td>pagar tarjeta visa quiere reembolso</td>\n",
       "      <td>pagar tarjeta visa querer reintegro</td>\n",
       "      <td>pagar tarjeta visa quiere reembolso</td>\n",
       "      <td>pagar la tarjeta visa quiere un reembolso</td>\n",
       "      <td>pagar la tarjeta visa quiere un reembolso</td>\n",
       "    </tr>\n",
       "    <tr>\n",
       "      <th>2</th>\n",
       "      <td>pagar tarjeta naranja sistema</td>\n",
       "      <td>Cat_132</td>\n",
       "      <td>tarjeta naranja del sistema de pago</td>\n",
       "      <td>pagar tarjeta naranja sistema</td>\n",
       "      <td>tarjeta naranja del sistema de pago</td>\n",
       "      <td>sistema de pago con tarjeta naranja</td>\n",
       "      <td>sistema de pago con tarjeta naranja</td>\n",
       "    </tr>\n",
       "    <tr>\n",
       "      <th>3</th>\n",
       "      <td>no se debitó la primera cuota del plan de bien...</td>\n",
       "      <td>Cat_129</td>\n",
       "      <td>la primera cuota del plan de propiedad persona...</td>\n",
       "      <td>no se debito la primera cuota del plan de bien...</td>\n",
       "      <td>la primera cuota del plan de propiedad persona...</td>\n",
       "      <td>la primera parte del plan de propiedad persona...</td>\n",
       "      <td>la primera parte del plan de propiedad persona...</td>\n",
       "    </tr>\n",
       "    <tr>\n",
       "      <th>4</th>\n",
       "      <td>abonar tarjeta credito</td>\n",
       "      <td>Cat_342</td>\n",
       "      <td>tarjeta de crédito</td>\n",
       "      <td>abonar tarjeta credito</td>\n",
       "      <td>tarjeta de credito</td>\n",
       "      <td>tarjeta de crédito</td>\n",
       "      <td>tarjeta de credito</td>\n",
       "    </tr>\n",
       "  </tbody>\n",
       "</table>\n",
       "</div>"
      ],
      "text/plain": [
       "                                            Pregunta Intencion  \\\n",
       "0               como puedo trabajar en santander rio   Cat_102   \n",
       "1                pagar tarjeta visa querer reintegro   Cat_350   \n",
       "2                      pagar tarjeta naranja sistema   Cat_132   \n",
       "3  no se debitó la primera cuota del plan de bien...   Cat_129   \n",
       "4                             abonar tarjeta credito   Cat_342   \n",
       "\n",
       "                                         Pregunta_T1  \\\n",
       "0             ¿Cómo puedo trabajar en Santander Rio?   \n",
       "1                pagar tarjeta visa quiere reembolso   \n",
       "2                tarjeta naranja del sistema de pago   \n",
       "3  la primera cuota del plan de propiedad persona...   \n",
       "4                                 tarjeta de crédito   \n",
       "\n",
       "                                           clean_txt  \\\n",
       "0               como puedo trabajar en santander rio   \n",
       "1                pagar tarjeta visa querer reintegro   \n",
       "2                      pagar tarjeta naranja sistema   \n",
       "3  no se debito la primera cuota del plan de bien...   \n",
       "4                             abonar tarjeta credito   \n",
       "\n",
       "                                        clean_txt_T1  \\\n",
       "0               como puedo trabajar en santander rio   \n",
       "1                pagar tarjeta visa quiere reembolso   \n",
       "2                tarjeta naranja del sistema de pago   \n",
       "3  la primera cuota del plan de propiedad persona...   \n",
       "4                                 tarjeta de credito   \n",
       "\n",
       "                                      Pregunta_T2_fr  \\\n",
       "0             ¿Cómo puedo trabajar en Santander Rio?   \n",
       "1          pagar la tarjeta visa quiere un reembolso   \n",
       "2                sistema de pago con tarjeta naranja   \n",
       "3  la primera parte del plan de propiedad persona...   \n",
       "4                                 tarjeta de crédito   \n",
       "\n",
       "                                     clean_txt_T2_fr  \n",
       "0               como puedo trabajar en santander rio  \n",
       "1          pagar la tarjeta visa quiere un reembolso  \n",
       "2                sistema de pago con tarjeta naranja  \n",
       "3  la primera parte del plan de propiedad persona...  \n",
       "4                                 tarjeta de credito  "
      ]
     },
     "execution_count": 43,
     "metadata": {},
     "output_type": "execute_result"
    }
   ],
   "source": [
    "df_train.head()"
   ]
  },
  {
   "cell_type": "code",
   "execution_count": 47,
   "metadata": {},
   "outputs": [],
   "source": [
    "df_train.to_csv(\"data/train_with_translations_clean.csv\", index=False)\n",
    "df_test_es_en.to_csv(\"data/test_with_translations_clean.csv\", index=False)"
   ]
  },
  {
   "cell_type": "code",
   "execution_count": 48,
   "metadata": {},
   "outputs": [],
   "source": [
    "df = pd.read_csv(\"data/train_with_translations_clean.csv\")"
   ]
  },
  {
   "cell_type": "code",
   "execution_count": 67,
   "metadata": {},
   "outputs": [],
   "source": [
    "df = pd.read_csv(\"data/train_with_translations_clean.csv\")\n",
    "\n",
    "columns = [\"clean_txt\", \"clean_txt_T1\", \"clean_txt_T2_fr\"]\n",
    "\n",
    "df_list = []\n",
    "for col in columns:\n",
    "    asd = df[[col, \"Intencion\"]]\n",
    "    asd.columns = [\"clean_txt\", \"Intencion\"]\n",
    "    df_list.append(asd)\n",
    "train = pd.concat(df_list)\n",
    "train.to_csv(\"data/train_with_translations_clean_all_es_en_fr.csv\", index=False)"
   ]
  },
  {
   "cell_type": "code",
   "execution_count": 99,
   "metadata": {},
   "outputs": [
    {
     "name": "stdout",
     "output_type": "stream",
     "text": [
      "Amount categories to populate : 333\n",
      "Amount categories to populate : 330\n"
     ]
    }
   ],
   "source": [
    "df = pd.read_csv(\"data/train_with_translations_clean.csv\")\n",
    "columns = [\"clean_txt_T1\", \"clean_txt_T2_fr\"]\n",
    "df = df[columns + [\"clean_txt\", \"Intencion\"]]\n",
    "df0 = df[[\"clean_txt\", \"Intencion\"]].copy()\n",
    "for col in columns:\n",
    "    thr = df0[\"Intencion\"].value_counts().values[0] // 2\n",
    "    cats_to_popu = [ k for k, v in dict(df0[\"Intencion\"].value_counts()).items() if v < thr]\n",
    "    print(f'Amount categories to populate : {len(cats_to_popu)}')\n",
    "    df1 = df[df[\"Intencion\"].isin(cats_to_popu)][[col, \"Intencion\"]].copy()\n",
    "    df1.columns = [\"clean_txt\", \"Intencion\"]\n",
    "    df0 = pd.concat([df0, df1])"
   ]
  },
  {
   "cell_type": "code",
   "execution_count": 118,
   "metadata": {},
   "outputs": [
    {
     "data": {
      "text/plain": [
       "<matplotlib.axes._subplots.AxesSubplot at 0x126715090>"
      ]
     },
     "execution_count": 118,
     "metadata": {},
     "output_type": "execute_result"
    },
    {
     "data": {
      "image/png": "[encoded data removed]",
      "text/plain": [
       "<Figure size 432x288 with 1 Axes>"
      ]
     },
     "metadata": {
      "needs_background": "light"
     },
     "output_type": "display_data"
    }
   ],
   "source": [
    "sns.lineplot(data=pd.DataFrame(list(df.Intencion.value_counts().values)))"
   ]
  },
  {
   "cell_type": "code",
   "execution_count": 108,
   "metadata": {},
   "outputs": [],
   "source": [
    "import seaborn as sns"
   ]
  },
  {
   "cell_type": "code",
   "execution_count": 117,
   "metadata": {},
   "outputs": [
    {
     "data": {
      "text/plain": [
       "<matplotlib.axes._subplots.AxesSubplot at 0x1263a5c90>"
      ]
     },
     "execution_count": 117,
     "metadata": {},
     "output_type": "execute_result"
    },
    {
     "data": {
      "image/png": "[encoded data removed]",
      "text/plain": [
       "<Figure size 432x288 with 1 Axes>"
      ]
     },
     "metadata": {
      "needs_background": "light"
     },
     "output_type": "display_data"
    }
   ],
   "source": [
    "sns.lineplot(data=pd.DataFrame(list(df0.Intencion.value_counts().values)))"
   ]
  },
  {
   "cell_type": "markdown",
   "metadata": {},
   "source": [
    "## es --> pr --> es"
   ]
  },
  {
   "cell_type": "code",
   "execution_count": 130,
   "metadata": {},
   "outputs": [],
   "source": [
    "df = pd.read_csv(\"data/train_with_translations_clean.csv\")\n",
    "df_test = pd.read_csv(\"data/test_with_translations_clean.csv\")"
   ]
  },
  {
   "cell_type": "code",
   "execution_count": 131,
   "metadata": {},
   "outputs": [
    {
     "name": "stdout",
     "output_type": "stream",
     "text": [
      "Amount of sentences 20104\n"
     ]
    },
    {
     "data": {
      "text/plain": [
       "['como puedo trabajar en santander rio', 'pagar tarjeta visa querer reintegro']"
      ]
     },
     "execution_count": 131,
     "metadata": {},
     "output_type": "execute_result"
    }
   ],
   "source": [
    "sentences_es = list(df.Pregunta.values)\n",
    "print(f'Amount of sentences {len(sentences_es)}')\n",
    "sentences_es[:2]"
   ]
  },
  {
   "cell_type": "code",
   "execution_count": 136,
   "metadata": {},
   "outputs": [
    {
     "name": "stdout",
     "output_type": "stream",
     "text": [
      "Amount of sentences 6702\n"
     ]
    },
    {
     "data": {
      "text/plain": [
       "['querer saber tarjeta sin limite',\n",
       " '¿cuál es el límite de mi tarjeta santander?']"
      ]
     },
     "execution_count": 136,
     "metadata": {},
     "output_type": "execute_result"
    }
   ],
   "source": [
    "sentences_es_test = list(df_test.Pregunta.values)\n",
    "print(f'Amount of sentences {len(sentences_es_test)}')\n",
    "sentences_es_test[:2]"
   ]
  },
  {
   "cell_type": "code",
   "execution_count": 138,
   "metadata": {},
   "outputs": [
    {
     "data": {
      "application/vnd.jupyter.widget-view+json": {
       "model_id": "658e14852f4d45919ca0d6022c0eccf2",
       "version_major": 2,
       "version_minor": 0
      },
      "text/plain": [
       "HBox(children=(IntProgress(value=0, max=20104), HTML(value='')))"
      ]
     },
     "metadata": {},
     "output_type": "display_data"
    },
    {
     "name": "stdout",
     "output_type": "stream",
     "text": [
      "Amount sentences en: 20104\n"
     ]
    },
    {
     "data": {
      "application/vnd.jupyter.widget-view+json": {
       "model_id": "30ea2aba49b249a3975cd3d289d0f5a0",
       "version_major": 2,
       "version_minor": 0
      },
      "text/plain": [
       "HBox(children=(IntProgress(value=0, max=20104), HTML(value='')))"
      ]
     },
     "metadata": {},
     "output_type": "display_data"
    },
    {
     "name": "stdout",
     "output_type": "stream",
     "text": [
      "Amount sentences en: 20104\n"
     ]
    },
    {
     "data": {
      "application/vnd.jupyter.widget-view+json": {
       "model_id": "60c7c772716f459a837994742be24d31",
       "version_major": 2,
       "version_minor": 0
      },
      "text/plain": [
       "HBox(children=(IntProgress(value=0, max=6702), HTML(value='')))"
      ]
     },
     "metadata": {},
     "output_type": "display_data"
    },
    {
     "name": "stdout",
     "output_type": "stream",
     "text": [
      "Amount sentences en: 6702\n"
     ]
    },
    {
     "data": {
      "application/vnd.jupyter.widget-view+json": {
       "model_id": "e96357d4f33943afa623c1577894c3e3",
       "version_major": 2,
       "version_minor": 0
      },
      "text/plain": [
       "HBox(children=(IntProgress(value=0, max=6702), HTML(value='')))"
      ]
     },
     "metadata": {},
     "output_type": "display_data"
    },
    {
     "name": "stdout",
     "output_type": "stream",
     "text": [
      "Amount sentences en: 6702\n"
     ]
    }
   ],
   "source": [
    "translations_pt = []\n",
    "for sent in tqdm(sentences_es):\n",
    "    translation = translator.translate(sent, src=\"es\", dest=\"pt\").text\n",
    "    translations_pt.append(translation)\n",
    "print(f'Amount sentences en: {len(translations_pt)}')\n",
    "\n",
    "translations_es_back = []\n",
    "for sent in tqdm(translations_pt):\n",
    "    translation = translator.translate(sent, src=\"pt\", dest=\"es\").text\n",
    "    translations_es_back.append(translation)\n",
    "print(f'Amount sentences en: {len(translations_es_back)}')\n",
    "\n",
    "df[\"Pregunta_T3_pt\"] = translations_es_back\n",
    "\n",
    "\n",
    "translations_pt = []\n",
    "for sent in tqdm(sentences_es_test):\n",
    "    translation = translator.translate(sent, src=\"es\", dest=\"pt\").text\n",
    "    translations_pt.append(translation)\n",
    "print(f'Amount sentences en: {len(translations_pt)}')\n",
    "\n",
    "translations_es_back = []\n",
    "for sent in tqdm(translations_pt):\n",
    "    translation = translator.translate(sent, src=\"pt\", dest=\"es\").text\n",
    "    translations_es_back.append(translation)\n",
    "print(f'Amount sentences en: {len(translations_es_back)}')\n",
    "\n",
    "df_test[\"Pregunta_T3_pt\"] = translations_es_back"
   ]
  },
  {
   "cell_type": "code",
   "execution_count": 139,
   "metadata": {},
   "outputs": [],
   "source": [
    "df[\"clean_txt_T3_pt\"] = df[\"Pregunta_T3_pt\"].apply(lambda x: preprocess_text(x))\n",
    "df_test[\"clean_txt_T3_pt\"] = df_test[\"Pregunta_T3_pt\"].apply(lambda x: preprocess_text(x))"
   ]
  },
  {
   "cell_type": "code",
   "execution_count": 140,
   "metadata": {},
   "outputs": [
    {
     "data": {
      "text/html": [
       "<div>\n",
       "<style scoped>\n",
       "    .dataframe tbody tr th:only-of-type {\n",
       "        vertical-align: middle;\n",
       "    }\n",
       "\n",
       "    .dataframe tbody tr th {\n",
       "        vertical-align: top;\n",
       "    }\n",
       "\n",
       "    .dataframe thead th {\n",
       "        text-align: right;\n",
       "    }\n",
       "</style>\n",
       "<table border=\"1\" class=\"dataframe\">\n",
       "  <thead>\n",
       "    <tr style=\"text-align: right;\">\n",
       "      <th></th>\n",
       "      <th>Pregunta</th>\n",
       "      <th>Intencion</th>\n",
       "      <th>Pregunta_T1</th>\n",
       "      <th>clean_txt</th>\n",
       "      <th>clean_txt_T1</th>\n",
       "      <th>Pregunta_T2_fr</th>\n",
       "      <th>clean_txt_T2_fr</th>\n",
       "      <th>Pregunta_T3_pt</th>\n",
       "      <th>clean_txt_T3_pt</th>\n",
       "    </tr>\n",
       "  </thead>\n",
       "  <tbody>\n",
       "    <tr>\n",
       "      <th>0</th>\n",
       "      <td>como puedo trabajar en santander rio</td>\n",
       "      <td>Cat_102</td>\n",
       "      <td>¿Cómo puedo trabajar en Santander Rio?</td>\n",
       "      <td>como puedo trabajar en santander rio</td>\n",
       "      <td>como puedo trabajar en santander rio</td>\n",
       "      <td>¿Cómo puedo trabajar en Santander Rio?</td>\n",
       "      <td>como puedo trabajar en santander rio</td>\n",
       "      <td>¿Cómo puedo trabajar en Santander Rio?</td>\n",
       "      <td>como puedo trabajar en santander rio</td>\n",
       "    </tr>\n",
       "    <tr>\n",
       "      <th>1</th>\n",
       "      <td>pagar tarjeta visa querer reintegro</td>\n",
       "      <td>Cat_350</td>\n",
       "      <td>pagar tarjeta visa quiere reembolso</td>\n",
       "      <td>pagar tarjeta visa querer reintegro</td>\n",
       "      <td>pagar tarjeta visa quiere reembolso</td>\n",
       "      <td>pagar la tarjeta visa quiere un reembolso</td>\n",
       "      <td>pagar la tarjeta visa quiere un reembolso</td>\n",
       "      <td>pagar tarjeta visa quiere reembolso</td>\n",
       "      <td>pagar tarjeta visa quiere reembolso</td>\n",
       "    </tr>\n",
       "    <tr>\n",
       "      <th>2</th>\n",
       "      <td>pagar tarjeta naranja sistema</td>\n",
       "      <td>Cat_132</td>\n",
       "      <td>tarjeta naranja del sistema de pago</td>\n",
       "      <td>pagar tarjeta naranja sistema</td>\n",
       "      <td>tarjeta naranja del sistema de pago</td>\n",
       "      <td>sistema de pago con tarjeta naranja</td>\n",
       "      <td>sistema de pago con tarjeta naranja</td>\n",
       "      <td>sistema de pago con tarjeta naranja</td>\n",
       "      <td>sistema de pago con tarjeta naranja</td>\n",
       "    </tr>\n",
       "    <tr>\n",
       "      <th>3</th>\n",
       "      <td>no se debitó la primera cuota del plan de bien...</td>\n",
       "      <td>Cat_129</td>\n",
       "      <td>la primera cuota del plan de propiedad persona...</td>\n",
       "      <td>no se debito la primera cuota del plan de bien...</td>\n",
       "      <td>la primera cuota del plan de propiedad persona...</td>\n",
       "      <td>la primera parte del plan de propiedad persona...</td>\n",
       "      <td>la primera parte del plan de propiedad persona...</td>\n",
       "      <td>No se ha cobrado la primera cuota del plan de ...</td>\n",
       "      <td>no se ha cobrado la primera cuota del plan de ...</td>\n",
       "    </tr>\n",
       "    <tr>\n",
       "      <th>4</th>\n",
       "      <td>abonar tarjeta credito</td>\n",
       "      <td>Cat_342</td>\n",
       "      <td>tarjeta de crédito</td>\n",
       "      <td>abonar tarjeta credito</td>\n",
       "      <td>tarjeta de credito</td>\n",
       "      <td>tarjeta de crédito</td>\n",
       "      <td>tarjeta de credito</td>\n",
       "      <td>tarjeta de crédito</td>\n",
       "      <td>tarjeta de credito</td>\n",
       "    </tr>\n",
       "  </tbody>\n",
       "</table>\n",
       "</div>"
      ],
      "text/plain": [
       "                                            Pregunta Intencion  \\\n",
       "0               como puedo trabajar en santander rio   Cat_102   \n",
       "1                pagar tarjeta visa querer reintegro   Cat_350   \n",
       "2                      pagar tarjeta naranja sistema   Cat_132   \n",
       "3  no se debitó la primera cuota del plan de bien...   Cat_129   \n",
       "4                             abonar tarjeta credito   Cat_342   \n",
       "\n",
       "                                         Pregunta_T1  \\\n",
       "0             ¿Cómo puedo trabajar en Santander Rio?   \n",
       "1                pagar tarjeta visa quiere reembolso   \n",
       "2                tarjeta naranja del sistema de pago   \n",
       "3  la primera cuota del plan de propiedad persona...   \n",
       "4                                 tarjeta de crédito   \n",
       "\n",
       "                                           clean_txt  \\\n",
       "0               como puedo trabajar en santander rio   \n",
       "1                pagar tarjeta visa querer reintegro   \n",
       "2                      pagar tarjeta naranja sistema   \n",
       "3  no se debito la primera cuota del plan de bien...   \n",
       "4                             abonar tarjeta credito   \n",
       "\n",
       "                                        clean_txt_T1  \\\n",
       "0               como puedo trabajar en santander rio   \n",
       "1                pagar tarjeta visa quiere reembolso   \n",
       "2                tarjeta naranja del sistema de pago   \n",
       "3  la primera cuota del plan de propiedad persona...   \n",
       "4                                 tarjeta de credito   \n",
       "\n",
       "                                      Pregunta_T2_fr  \\\n",
       "0             ¿Cómo puedo trabajar en Santander Rio?   \n",
       "1          pagar la tarjeta visa quiere un reembolso   \n",
       "2                sistema de pago con tarjeta naranja   \n",
       "3  la primera parte del plan de propiedad persona...   \n",
       "4                                 tarjeta de crédito   \n",
       "\n",
       "                                     clean_txt_T2_fr  \\\n",
       "0               como puedo trabajar en santander rio   \n",
       "1          pagar la tarjeta visa quiere un reembolso   \n",
       "2                sistema de pago con tarjeta naranja   \n",
       "3  la primera parte del plan de propiedad persona...   \n",
       "4                                 tarjeta de credito   \n",
       "\n",
       "                                      Pregunta_T3_pt  \\\n",
       "0             ¿Cómo puedo trabajar en Santander Rio?   \n",
       "1                pagar tarjeta visa quiere reembolso   \n",
       "2                sistema de pago con tarjeta naranja   \n",
       "3  No se ha cobrado la primera cuota del plan de ...   \n",
       "4                                 tarjeta de crédito   \n",
       "\n",
       "                                     clean_txt_T3_pt  \n",
       "0               como puedo trabajar en santander rio  \n",
       "1                pagar tarjeta visa quiere reembolso  \n",
       "2                sistema de pago con tarjeta naranja  \n",
       "3  no se ha cobrado la primera cuota del plan de ...  \n",
       "4                                 tarjeta de credito  "
      ]
     },
     "execution_count": 140,
     "metadata": {},
     "output_type": "execute_result"
    }
   ],
   "source": [
    "df.head()"
   ]
  },
  {
   "cell_type": "code",
   "execution_count": 142,
   "metadata": {},
   "outputs": [
    {
     "data": {
      "text/html": [
       "<div>\n",
       "<style scoped>\n",
       "    .dataframe tbody tr th:only-of-type {\n",
       "        vertical-align: middle;\n",
       "    }\n",
       "\n",
       "    .dataframe tbody tr th {\n",
       "        vertical-align: top;\n",
       "    }\n",
       "\n",
       "    .dataframe thead th {\n",
       "        text-align: right;\n",
       "    }\n",
       "</style>\n",
       "<table border=\"1\" class=\"dataframe\">\n",
       "  <thead>\n",
       "    <tr style=\"text-align: right;\">\n",
       "      <th></th>\n",
       "      <th>id</th>\n",
       "      <th>Pregunta</th>\n",
       "      <th>Pregunta_T1</th>\n",
       "      <th>clean_txt</th>\n",
       "      <th>clean_txt_T1</th>\n",
       "      <th>Pregunta_T2_fr</th>\n",
       "      <th>clean_txt_T2_fr</th>\n",
       "      <th>Pregunta_T3_pt</th>\n",
       "      <th>clean_txt_T3_pt</th>\n",
       "    </tr>\n",
       "  </thead>\n",
       "  <tbody>\n",
       "    <tr>\n",
       "      <th>0</th>\n",
       "      <td>0</td>\n",
       "      <td>querer saber tarjeta sin limite</td>\n",
       "      <td>quiero saber tarjeta sin límite</td>\n",
       "      <td>querer saber tarjeta sin limite</td>\n",
       "      <td>quiero saber tarjeta sin limite</td>\n",
       "      <td>quiero saber la tarjeta sin limite</td>\n",
       "      <td>quiero saber la tarjeta sin limite</td>\n",
       "      <td>quiero saber tarjeta ilimitada</td>\n",
       "      <td>quiero saber tarjeta ilimitada</td>\n",
       "    </tr>\n",
       "    <tr>\n",
       "      <th>1</th>\n",
       "      <td>1</td>\n",
       "      <td>¿cuál es el límite de mi tarjeta santander?</td>\n",
       "      <td>¿Cuál es el límite de mi tarjeta santander?</td>\n",
       "      <td>cual es el limite de mi tarjeta santander</td>\n",
       "      <td>cual es el limite de mi tarjeta santander</td>\n",
       "      <td>¿Cuál es el límite de mi tarjeta santander?</td>\n",
       "      <td>cual es el limite de mi tarjeta santander</td>\n",
       "      <td>Qual é o limite do meu cartão santander?</td>\n",
       "      <td>qual e o limite do meu cartao santander</td>\n",
       "    </tr>\n",
       "    <tr>\n",
       "      <th>2</th>\n",
       "      <td>2</td>\n",
       "      <td>hay beneficios en restaurantes de la costa atl...</td>\n",
       "      <td>¿Hay beneficios en los restaurantes de la cost...</td>\n",
       "      <td>hay beneficios en restaurantes de la costa atl...</td>\n",
       "      <td>hay beneficios en los restaurantes de la costa...</td>\n",
       "      <td>¿Hay ventajas en los restaurantes de la costa ...</td>\n",
       "      <td>hay ventajas en los restaurantes de la costa a...</td>\n",
       "      <td>¿Hay beneficios en los restaurantes de la cost...</td>\n",
       "      <td>hay beneficios en los restaurantes de la costa...</td>\n",
       "    </tr>\n",
       "    <tr>\n",
       "      <th>3</th>\n",
       "      <td>3</td>\n",
       "      <td>semana realizar pagar afip monotributo volver ...</td>\n",
       "      <td>la semana hace que pague la declaración de imp...</td>\n",
       "      <td>semana realizar pagar afip monotributo volver ...</td>\n",
       "      <td>la semana hace que pague la declaracion de imp...</td>\n",
       "      <td>semana recibir el pago de una declaración de i...</td>\n",
       "      <td>semana recibir el pago de una declaracion de i...</td>\n",
       "      <td>semana pago retorno solo afip de impuestos apa...</td>\n",
       "      <td>semana pago retorno solo afip de impuestos apa...</td>\n",
       "    </tr>\n",
       "    <tr>\n",
       "      <th>4</th>\n",
       "      <td>4</td>\n",
       "      <td>por un prestamo de mil. cuanto es el interes?</td>\n",
       "      <td>por un préstamo de mil. cuanto es el interes</td>\n",
       "      <td>por un prestamo de mil cuanto es el interes</td>\n",
       "      <td>por un prestamo de mil cuanto es el interes</td>\n",
       "      <td>por un préstamo de mil. cual es el punto</td>\n",
       "      <td>por un prestamo de mil cual es el punto</td>\n",
       "      <td>por un préstamo de mil. cuanto es el interes</td>\n",
       "      <td>por un prestamo de mil cuanto es el interes</td>\n",
       "    </tr>\n",
       "  </tbody>\n",
       "</table>\n",
       "</div>"
      ],
      "text/plain": [
       "   id                                           Pregunta  \\\n",
       "0   0                    querer saber tarjeta sin limite   \n",
       "1   1        ¿cuál es el límite de mi tarjeta santander?   \n",
       "2   2  hay beneficios en restaurantes de la costa atl...   \n",
       "3   3  semana realizar pagar afip monotributo volver ...   \n",
       "4   4      por un prestamo de mil. cuanto es el interes?   \n",
       "\n",
       "                                         Pregunta_T1  \\\n",
       "0                    quiero saber tarjeta sin límite   \n",
       "1        ¿Cuál es el límite de mi tarjeta santander?   \n",
       "2  ¿Hay beneficios en los restaurantes de la cost...   \n",
       "3  la semana hace que pague la declaración de imp...   \n",
       "4       por un préstamo de mil. cuanto es el interes   \n",
       "\n",
       "                                           clean_txt  \\\n",
       "0                    querer saber tarjeta sin limite   \n",
       "1          cual es el limite de mi tarjeta santander   \n",
       "2  hay beneficios en restaurantes de la costa atl...   \n",
       "3  semana realizar pagar afip monotributo volver ...   \n",
       "4        por un prestamo de mil cuanto es el interes   \n",
       "\n",
       "                                        clean_txt_T1  \\\n",
       "0                    quiero saber tarjeta sin limite   \n",
       "1          cual es el limite de mi tarjeta santander   \n",
       "2  hay beneficios en los restaurantes de la costa...   \n",
       "3  la semana hace que pague la declaracion de imp...   \n",
       "4        por un prestamo de mil cuanto es el interes   \n",
       "\n",
       "                                      Pregunta_T2_fr  \\\n",
       "0                 quiero saber la tarjeta sin limite   \n",
       "1        ¿Cuál es el límite de mi tarjeta santander?   \n",
       "2  ¿Hay ventajas en los restaurantes de la costa ...   \n",
       "3  semana recibir el pago de una declaración de i...   \n",
       "4           por un préstamo de mil. cual es el punto   \n",
       "\n",
       "                                     clean_txt_T2_fr  \\\n",
       "0                 quiero saber la tarjeta sin limite   \n",
       "1          cual es el limite de mi tarjeta santander   \n",
       "2  hay ventajas en los restaurantes de la costa a...   \n",
       "3  semana recibir el pago de una declaracion de i...   \n",
       "4            por un prestamo de mil cual es el punto   \n",
       "\n",
       "                                      Pregunta_T3_pt  \\\n",
       "0                     quiero saber tarjeta ilimitada   \n",
       "1           Qual é o limite do meu cartão santander?   \n",
       "2  ¿Hay beneficios en los restaurantes de la cost...   \n",
       "3  semana pago retorno solo afip de impuestos apa...   \n",
       "4       por un préstamo de mil. cuanto es el interes   \n",
       "\n",
       "                                     clean_txt_T3_pt  \n",
       "0                     quiero saber tarjeta ilimitada  \n",
       "1            qual e o limite do meu cartao santander  \n",
       "2  hay beneficios en los restaurantes de la costa...  \n",
       "3  semana pago retorno solo afip de impuestos apa...  \n",
       "4        por un prestamo de mil cuanto es el interes  "
      ]
     },
     "execution_count": 142,
     "metadata": {},
     "output_type": "execute_result"
    }
   ],
   "source": [
    "df_test.head()"
   ]
  },
  {
   "cell_type": "code",
   "execution_count": 143,
   "metadata": {},
   "outputs": [],
   "source": [
    "df.to_csv(\"data/train_with_translations_clean.csv\", index=False)\n",
    "df_test.to_csv(\"data/test_with_translations_clean.csv\", index=False)"
   ]
  },
  {
   "cell_type": "code",
   "execution_count": 134,
   "metadata": {},
   "outputs": [],
   "source": []
  },
  {
   "cell_type": "code",
   "execution_count": null,
   "metadata": {},
   "outputs": [],
   "source": []
  }
 ],
 "metadata": {
  "kernelspec": {
   "display_name": "Python 3",
   "language": "python",
   "name": "python3"
  },
  "language_info": {
   "codemirror_mode": {
    "name": "ipython",
    "version": 3
   },
   "file_extension": ".py",
   "mimetype": "text/x-python",
   "name": "python",
   "nbconvert_exporter": "python",
   "pygments_lexer": "ipython3",
   "version": "3.8.1"
  }
 },
 "nbformat": 4,
 "nbformat_minor": 2
}
