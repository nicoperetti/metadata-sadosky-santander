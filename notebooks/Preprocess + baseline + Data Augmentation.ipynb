{
 "cells": [
  {
   "cell_type": "code",
   "execution_count": 74,
   "metadata": {},
   "outputs": [
    {
     "name": "stdout",
     "output_type": "stream",
     "text": [
      "Requirement already satisfied: joblib in /Users/nico/miniconda3/envs/keras/lib/python3.7/site-packages (0.13.2)\r\n"
     ]
    }
   ],
   "source": [
    "!pip install joblib"
   ]
  },
  {
   "cell_type": "code",
   "execution_count": 75,
   "metadata": {},
   "outputs": [],
   "source": [
    "import pandas as pd\n",
    "import numpy as np\n",
    "import re\n",
    "\n",
    "from nltk.corpus import stopwords\n",
    "from textacy.preprocess import preprocess_text as textacy_preprocess\n",
    "\n",
    "from sklearn.model_selection import train_test_split\n",
    "from sklearn.feature_extraction.text import CountVectorizer\n",
    "from sklearn.feature_extraction.text import TfidfTransformer\n",
    "from sklearn.metrics import classification_report, accuracy_score, balanced_accuracy_score\n",
    "from sklearn.svm import SVC\n",
    "from sklearn.model_selection import GridSearchCV\n",
    "from sklearn.ensemble import GradientBoostingClassifier\n",
    "\n",
    "import seaborn as sns\n",
    "import matplotlib.pyplot as plt\n",
    "\n",
    "from collections import Counter\n",
    "from tqdm.auto import tqdm\n",
    "from googletrans import Translator\n",
    "\n",
    "import warnings\n",
    "warnings.filterwarnings(\"ignore\")"
   ]
  },
  {
   "cell_type": "markdown",
   "metadata": {},
   "source": [
    "# Ejemplo de uso de google translate"
   ]
  },
  {
   "cell_type": "code",
   "execution_count": 12,
   "metadata": {},
   "outputs": [
    {
     "name": "stdout",
     "output_type": "stream",
     "text": [
      "necesito pagar las cuentas I need to pay the bills\n",
      "ola k ace Hi, what are you doing\n"
     ]
    }
   ],
   "source": [
    "translator = Translator()\n",
    "sentences_es = [\"necesito pagar las cuentas\", \"ola k ace\"]\n",
    "translations_en = translator.translate(sentences_es, src=\"es\", dest=\"en\")\n",
    "for translation in translations_en:\n",
    "    print(translation.origin, translation.text)"
   ]
  },
  {
   "cell_type": "markdown",
   "metadata": {},
   "source": [
    "# Load Data"
   ]
  },
  {
   "cell_type": "code",
   "execution_count": 27,
   "metadata": {},
   "outputs": [
    {
     "name": "stdout",
     "output_type": "stream",
     "text": [
      "df shape: (20104, 2)\n"
     ]
    },
    {
     "data": {
      "text/html": [
       "<div>\n",
       "<style scoped>\n",
       "    .dataframe tbody tr th:only-of-type {\n",
       "        vertical-align: middle;\n",
       "    }\n",
       "\n",
       "    .dataframe tbody tr th {\n",
       "        vertical-align: top;\n",
       "    }\n",
       "\n",
       "    .dataframe thead th {\n",
       "        text-align: right;\n",
       "    }\n",
       "</style>\n",
       "<table border=\"1\" class=\"dataframe\">\n",
       "  <thead>\n",
       "    <tr style=\"text-align: right;\">\n",
       "      <th></th>\n",
       "      <th>Pregunta</th>\n",
       "      <th>Intencion</th>\n",
       "    </tr>\n",
       "  </thead>\n",
       "  <tbody>\n",
       "    <tr>\n",
       "      <th>0</th>\n",
       "      <td>como puedo trabajar en santander rio</td>\n",
       "      <td>Cat_102</td>\n",
       "    </tr>\n",
       "    <tr>\n",
       "      <th>1</th>\n",
       "      <td>pagar tarjeta visa querer reintegro</td>\n",
       "      <td>Cat_350</td>\n",
       "    </tr>\n",
       "  </tbody>\n",
       "</table>\n",
       "</div>"
      ],
      "text/plain": [
       "                               Pregunta Intencion\n",
       "0  como puedo trabajar en santander rio   Cat_102\n",
       "1   pagar tarjeta visa querer reintegro   Cat_350"
      ]
     },
     "execution_count": 27,
     "metadata": {},
     "output_type": "execute_result"
    }
   ],
   "source": [
    "df = pd.read_csv('data/train.csv',sep = '|')\n",
    "df.columns = ['Pregunta', 'Intencion']\n",
    "print(f'df shape: {df.shape}')\n",
    "df.head(2)"
   ]
  },
  {
   "cell_type": "code",
   "execution_count": 115,
   "metadata": {},
   "outputs": [
    {
     "name": "stdout",
     "output_type": "stream",
     "text": [
      "df shape: (6702, 2)\n"
     ]
    },
    {
     "data": {
      "text/html": [
       "<div>\n",
       "<style scoped>\n",
       "    .dataframe tbody tr th:only-of-type {\n",
       "        vertical-align: middle;\n",
       "    }\n",
       "\n",
       "    .dataframe tbody tr th {\n",
       "        vertical-align: top;\n",
       "    }\n",
       "\n",
       "    .dataframe thead th {\n",
       "        text-align: right;\n",
       "    }\n",
       "</style>\n",
       "<table border=\"1\" class=\"dataframe\">\n",
       "  <thead>\n",
       "    <tr style=\"text-align: right;\">\n",
       "      <th></th>\n",
       "      <th>id</th>\n",
       "      <th>Pregunta</th>\n",
       "    </tr>\n",
       "  </thead>\n",
       "  <tbody>\n",
       "    <tr>\n",
       "      <th>0</th>\n",
       "      <td>0</td>\n",
       "      <td>querer saber tarjeta sin limite</td>\n",
       "    </tr>\n",
       "    <tr>\n",
       "      <th>1</th>\n",
       "      <td>1</td>\n",
       "      <td>¿cuál es el límite de mi tarjeta santander?</td>\n",
       "    </tr>\n",
       "  </tbody>\n",
       "</table>\n",
       "</div>"
      ],
      "text/plain": [
       "   id                                     Pregunta\n",
       "0   0              querer saber tarjeta sin limite\n",
       "1   1  ¿cuál es el límite de mi tarjeta santander?"
      ]
     },
     "execution_count": 115,
     "metadata": {},
     "output_type": "execute_result"
    }
   ],
   "source": [
    "df_test = pd.read_csv('data/test_santander.csv')\n",
    "print(f'df shape: {df_test.shape}')\n",
    "df_test.head(2)"
   ]
  },
  {
   "cell_type": "markdown",
   "metadata": {},
   "source": [
    "# translate es --> en --> es"
   ]
  },
  {
   "cell_type": "code",
   "execution_count": 28,
   "metadata": {},
   "outputs": [
    {
     "name": "stdout",
     "output_type": "stream",
     "text": [
      "Amount of sentences 20104\n"
     ]
    },
    {
     "data": {
      "text/plain": [
       "['como puedo trabajar en santander rio', 'pagar tarjeta visa querer reintegro']"
      ]
     },
     "execution_count": 28,
     "metadata": {},
     "output_type": "execute_result"
    }
   ],
   "source": [
    "sentences_es = list(df.Pregunta.values)\n",
    "print(f'Amount of sentences {len(sentences_es)}')\n",
    "sentences_es[:2]"
   ]
  },
  {
   "cell_type": "code",
   "execution_count": 29,
   "metadata": {},
   "outputs": [],
   "source": [
    "translator = Translator()"
   ]
  },
  {
   "cell_type": "markdown",
   "metadata": {},
   "source": [
    "### Translate es --> en"
   ]
  },
  {
   "cell_type": "code",
   "execution_count": 56,
   "metadata": {
    "scrolled": true
   },
   "outputs": [
    {
     "data": {
      "application/vnd.jupyter.widget-view+json": {
       "model_id": "c314f92a105443f2980cc5cc64180295",
       "version_major": 2,
       "version_minor": 0
      },
      "text/plain": [
       "HBox(children=(IntProgress(value=0, max=20104), HTML(value='')))"
      ]
     },
     "metadata": {},
     "output_type": "display_data"
    },
    {
     "name": "stdout",
     "output_type": "stream",
     "text": [
      "Amount sentences en: 20104\n"
     ]
    },
    {
     "data": {
      "text/plain": [
       "[<googletrans.models.Translated at 0x10c8e6490>,\n",
       " <googletrans.models.Translated at 0x121bf2ed0>]"
      ]
     },
     "execution_count": 56,
     "metadata": {},
     "output_type": "execute_result"
    }
   ],
   "source": [
    "translations_en = []\n",
    "for sent in tqdm(sentences_es):\n",
    "    translation = translator.translate(sent, src=\"es\", dest=\"en\")\n",
    "    translations_en.append(translation)\n",
    "print(f'Amount sentences en: {len(translations_en)}')\n",
    "translations_en[:2]"
   ]
  },
  {
   "cell_type": "code",
   "execution_count": 57,
   "metadata": {},
   "outputs": [],
   "source": [
    "sentences_en = [ translation.text for translation in translations_en]"
   ]
  },
  {
   "cell_type": "code",
   "execution_count": 58,
   "metadata": {},
   "outputs": [
    {
     "data": {
      "application/vnd.jupyter.widget-view+json": {
       "model_id": "ac2fc81155aa4db3b77eff6964dd8672",
       "version_major": 2,
       "version_minor": 0
      },
      "text/plain": [
       "HBox(children=(IntProgress(value=0, max=20104), HTML(value='')))"
      ]
     },
     "metadata": {},
     "output_type": "display_data"
    },
    {
     "name": "stdout",
     "output_type": "stream",
     "text": [
      "Amount sentences en: 20104\n"
     ]
    },
    {
     "data": {
      "text/plain": [
       "[<googletrans.models.Translated at 0x122408bd0>,\n",
       " <googletrans.models.Translated at 0x122408fd0>]"
      ]
     },
     "execution_count": 58,
     "metadata": {},
     "output_type": "execute_result"
    }
   ],
   "source": [
    "translations_es_back = []\n",
    "for sent in tqdm(sentences_en):\n",
    "    translation = translator.translate(sent, src=\"en\", dest=\"es\")\n",
    "    translations_es_back.append(translation)\n",
    "print(f'Amount sentences en: {len(translations_es_back)}')\n",
    "translations_es_back[:2]"
   ]
  },
  {
   "cell_type": "code",
   "execution_count": 59,
   "metadata": {},
   "outputs": [],
   "source": [
    "sentences_es_back = [ translation.text for translation in translations_es_back]"
   ]
  },
  {
   "cell_type": "code",
   "execution_count": 60,
   "metadata": {},
   "outputs": [
    {
     "data": {
      "text/plain": [
       "['¿Cómo puedo trabajar en Santander Rio?',\n",
       " 'pagar tarjeta visa quiere reembolso']"
      ]
     },
     "execution_count": 60,
     "metadata": {},
     "output_type": "execute_result"
    }
   ],
   "source": [
    "sentences_es_back[:2]"
   ]
  },
  {
   "cell_type": "code",
   "execution_count": 62,
   "metadata": {},
   "outputs": [],
   "source": [
    "df[\"Pregunta_T1\"] = sentences_es_back"
   ]
  },
  {
   "cell_type": "code",
   "execution_count": 72,
   "metadata": {},
   "outputs": [],
   "source": [
    "df.to_csv(\"data/train_with_translations.csv\", index=False)"
   ]
  },
  {
   "cell_type": "code",
   "execution_count": 119,
   "metadata": {},
   "outputs": [
    {
     "data": {
      "application/vnd.jupyter.widget-view+json": {
       "model_id": "02f57c2b52ad4128813838e1199a6efd",
       "version_major": 2,
       "version_minor": 0
      },
      "text/plain": [
       "HBox(children=(IntProgress(value=0, max=6702), HTML(value='')))"
      ]
     },
     "metadata": {},
     "output_type": "display_data"
    },
    {
     "name": "stdout",
     "output_type": "stream",
     "text": [
      "Amount sentences en: 6702\n"
     ]
    },
    {
     "data": {
      "text/plain": [
       "[<googletrans.models.Translated at 0x12cf9f450>,\n",
       " <googletrans.models.Translated at 0x12cf9fc50>]"
      ]
     },
     "execution_count": 119,
     "metadata": {},
     "output_type": "execute_result"
    }
   ],
   "source": [
    "test_sentences_es = list(df_test.Pregunta.values)\n",
    "test_translation_en = []\n",
    "for sent in tqdm(test_sentences_es):\n",
    "    translation = translator.translate(sent, src=\"es\", dest=\"en\")\n",
    "    test_translation_en.append(translation)\n",
    "print(f'Amount sentences en: {len(test_translation_en)}')\n",
    "test_translation_en[:2]"
   ]
  },
  {
   "cell_type": "code",
   "execution_count": 120,
   "metadata": {},
   "outputs": [],
   "source": [
    "test_sentences_en = [ translation.text for translation in test_translation_en]"
   ]
  },
  {
   "cell_type": "code",
   "execution_count": 126,
   "metadata": {},
   "outputs": [
    {
     "data": {
      "application/vnd.jupyter.widget-view+json": {
       "model_id": "14cae953277947ca88cb1099214e9eef",
       "version_major": 2,
       "version_minor": 0
      },
      "text/plain": [
       "HBox(children=(IntProgress(value=0, max=6702), HTML(value='')))"
      ]
     },
     "metadata": {},
     "output_type": "display_data"
    },
    {
     "name": "stdout",
     "output_type": "stream",
     "text": [
      "Amount sentences en: 0\n"
     ]
    },
    {
     "data": {
      "text/plain": [
       "[]"
      ]
     },
     "execution_count": 126,
     "metadata": {},
     "output_type": "execute_result"
    }
   ],
   "source": [
    "test_translations_es_back = []\n",
    "for sent in tqdm(test_sentences_en):\n",
    "    translation = translator.translate(sent, src=\"en\", dest=\"es\")\n",
    "    translations_es_back.append(translation)\n",
    "print(f'Amount sentences en: {len(test_translations_es_back)}')\n",
    "test_translations_es_back[:2]"
   ]
  },
  {
   "cell_type": "code",
   "execution_count": 132,
   "metadata": {},
   "outputs": [],
   "source": [
    "test_sentences_es_back = [ translation.text for translation in translations_es_back]"
   ]
  },
  {
   "cell_type": "code",
   "execution_count": null,
   "metadata": {},
   "outputs": [],
   "source": []
  },
  {
   "cell_type": "code",
   "execution_count": 127,
   "metadata": {},
   "outputs": [],
   "source": [
    "test_sentences_es_back = [ translation.text for translation in test_translations_es_back]"
   ]
  },
  {
   "cell_type": "code",
   "execution_count": 136,
   "metadata": {},
   "outputs": [],
   "source": [
    "df_test[\"Pregunta_T1\"] = test_sentences_es_back[-6702:]\n",
    "df_test.to_csv(\"data/test_with_translations.csv\", index=False)"
   ]
  },
  {
   "cell_type": "markdown",
   "metadata": {},
   "source": [
    "## Preprocess"
   ]
  },
  {
   "cell_type": "code",
   "execution_count": 76,
   "metadata": {},
   "outputs": [],
   "source": [
    "STOPWORDS_SET = stopwords.words('spanish')\n",
    "\n",
    "EMOJI_PATTERN = re.compile(\"[\"\n",
    "                           u\"\\U0001F600-\\U0001F64F\"  # emoticons\n",
    "                           u\"\\U0001F300-\\U0001F5FF\"  # symbols & pictographs\n",
    "                           u\"\\U0001F680-\\U0001F6FF\"  # transport & map symbols\n",
    "                           u\"\\U0001F1E0-\\U0001F1FF\"  # flags (iOS)\n",
    "                           \"]+\", flags=re.UNICODE)\n",
    "\n",
    "\n",
    "def remove_stopwords(text):\n",
    "    \"\"\"Remove stop words from list of tokenized words.\"\"\"\n",
    "    new_words = [word for word in text.split() if word not in STOPWORDS_SET]\n",
    "    return ' '.join(new_words)\n",
    "\n",
    "\n",
    "def remove_emoticons(text):\n",
    "    \"\"\"Remove emoticos.\"\"\"\n",
    "    return EMOJI_PATTERN.sub('', text)\n",
    "\n",
    "\n",
    "def to_lowercase(text):\n",
    "    \"\"\"To lowercase.\"\"\"\n",
    "    return text.lower()\n",
    "\n",
    "\n",
    "def preprocess_text(text, fix_unicode=True, lowercase=True,\n",
    "                    no_urls=True, no_emails=True,\n",
    "                    no_phone_numbers=True,\n",
    "                    no_numbers=True, no_currency_symbols=True,\n",
    "                    no_punct=True, no_accents=True):\n",
    "    \"\"\"Preprocess text.\"\"\"\n",
    "    clean_text = \"\"\n",
    "    if text:\n",
    "        clean_text = remove_emoticons(text)\n",
    "        if lowercase:\n",
    "            clean_text = to_lowercase(clean_text)\n",
    "#        clean_text = remove_stopwords(clean_text)\n",
    "        clean_text = textacy_preprocess(clean_text, fix_unicode=fix_unicode,\n",
    "                                        lowercase=lowercase,\n",
    "                                        no_urls=no_urls, no_emails=no_emails,\n",
    "                                        no_phone_numbers=no_phone_numbers,\n",
    "                                        no_numbers=no_numbers,\n",
    "                                        no_currency_symbols=no_currency_symbols,\n",
    "                                        no_punct=no_punct,\n",
    "                                        no_accents=no_accents)\n",
    "    return clean_text"
   ]
  },
  {
   "cell_type": "code",
   "execution_count": 77,
   "metadata": {},
   "outputs": [],
   "source": [
    "df[\"Pregunta_clean_txt\"] = df[\"Pregunta\"].apply(lambda x: preprocess_text(x))\n",
    "df[\"Pregunta_T1_clean_txt\"] = df[\"Pregunta_T1\"].apply(lambda x: preprocess_text(x))"
   ]
  },
  {
   "cell_type": "markdown",
   "metadata": {},
   "source": [
    "## Split Dataset"
   ]
  },
  {
   "cell_type": "code",
   "execution_count": 94,
   "metadata": {},
   "outputs": [],
   "source": [
    "X_origin = df.Pregunta_clean_txt\n",
    "X_translated = df.Pregunta_T1_clean_txt\n",
    "y = df.Intencion\n",
    "\n",
    "train_index, test_index = train_test_split(list(X_origin.index), random_state = 13571113)"
   ]
  },
  {
   "cell_type": "markdown",
   "metadata": {},
   "source": [
    "# Model base origin"
   ]
  },
  {
   "cell_type": "code",
   "execution_count": 95,
   "metadata": {},
   "outputs": [],
   "source": [
    "count_vect = CountVectorizer()\n",
    "X_train_counts = count_vect.fit_transform(X_origin[train_index])\n",
    "tfidf_transformer = TfidfTransformer(sublinear_tf=True)\n",
    "X_train_tfidf = tfidf_transformer.fit_transform(X_train_counts)"
   ]
  },
  {
   "cell_type": "code",
   "execution_count": 97,
   "metadata": {},
   "outputs": [],
   "source": [
    "X_test_counts = count_vect.transform(X_origin[test_index])\n",
    "X_test_tfidf = tfidf_transformer.transform(X_test_counts)"
   ]
  },
  {
   "cell_type": "code",
   "execution_count": 98,
   "metadata": {},
   "outputs": [],
   "source": [
    "clf = SVC(kernel=\"linear\", C=10)\n",
    "clf.fit(X_train_tfidf, y[train_index])\n",
    "preds = clf.predict(X_test_tfidf)"
   ]
  },
  {
   "cell_type": "code",
   "execution_count": 99,
   "metadata": {},
   "outputs": [
    {
     "name": "stdout",
     "output_type": "stream",
     "text": [
      "El valor de Accuracy en test es de: 0.789\n",
      "El valor de Balanced Accuracy en test es de: 0.674\n"
     ]
    }
   ],
   "source": [
    "print('El valor de Accuracy en test es de: {}'.format(round(accuracy_score(y[test_index], preds),3)))\n",
    "print('El valor de Balanced Accuracy en test es de: {}'.format(round(balanced_accuracy_score(y[test_index], preds),3)))"
   ]
  },
  {
   "cell_type": "markdown",
   "metadata": {},
   "source": [
    "# Model base translated"
   ]
  },
  {
   "cell_type": "code",
   "execution_count": null,
   "metadata": {},
   "outputs": [],
   "source": [
    "count_vect = CountVectorizer()\n",
    "X_train_counts = count_vect.fit_transform(X_translated[train_index])\n",
    "tfidf_transformer = TfidfTransformer(sublinear_tf=True)\n",
    "X_train_tfidf = tfidf_transformer.fit_transform(X_train_counts)\n",
    "\n",
    "clf = SVC(kernel=\"linear\", C=10)\n",
    "clf.fit(X_train_tfidf, y[train_index])"
   ]
  },
  {
   "cell_type": "code",
   "execution_count": 111,
   "metadata": {},
   "outputs": [
    {
     "name": "stdout",
     "output_type": "stream",
     "text": [
      "El valor de Accuracy en test es de: 0.686\n",
      "El valor de Balanced Accuracy en test es de: 0.54\n"
     ]
    }
   ],
   "source": [
    "X_test_counts = count_vect.transform(X_origin[test_index])\n",
    "X_test_tfidf = tfidf_transformer.transform(X_test_counts)\n",
    "preds = clf.predict(X_test_tfidf)\n",
    "print('El valor de Accuracy en test es de: {}'.format(round(accuracy_score(y[test_index], preds),3)))\n",
    "print('El valor de Balanced Accuracy en test es de: {}'.format(round(balanced_accuracy_score(y[test_index], preds),3)))"
   ]
  },
  {
   "cell_type": "markdown",
   "metadata": {},
   "source": [
    "## BOTH DATA: ORIGIN + TRANSLATED"
   ]
  },
  {
   "cell_type": "code",
   "execution_count": 112,
   "metadata": {},
   "outputs": [
    {
     "data": {
      "text/plain": [
       "SVC(C=10, kernel='linear')"
      ]
     },
     "execution_count": 112,
     "metadata": {},
     "output_type": "execute_result"
    }
   ],
   "source": [
    "X_train = list(X_translated[train_index].values) +  list(X_origin[train_index].values)\n",
    "y_train = list(y[train_index].values) + list(y[train_index].values)\n",
    "\n",
    "count_vect = CountVectorizer()\n",
    "X_train_counts = count_vect.fit_transform(X_train)\n",
    "tfidf_transformer = TfidfTransformer(sublinear_tf=True)\n",
    "X_train_tfidf = tfidf_transformer.fit_transform(X_train_counts)\n",
    "\n",
    "clf = SVC(kernel=\"linear\", C=10)\n",
    "clf.fit(X_train_tfidf, y_train)"
   ]
  },
  {
   "cell_type": "code",
   "execution_count": 113,
   "metadata": {},
   "outputs": [
    {
     "name": "stdout",
     "output_type": "stream",
     "text": [
      "El valor de Accuracy en test es de: 0.79\n",
      "El valor de Balanced Accuracy en test es de: 0.686\n"
     ]
    }
   ],
   "source": [
    "X_test_counts = count_vect.transform(X_origin[test_index])\n",
    "X_test_tfidf = tfidf_transformer.transform(X_test_counts)\n",
    "preds = clf.predict(X_test_tfidf)\n",
    "print('El valor de Accuracy en test es de: {}'.format(round(accuracy_score(y[test_index], preds),3)))\n",
    "print('El valor de Balanced Accuracy en test es de: {}'.format(round(balanced_accuracy_score(y[test_index], preds),3)))"
   ]
  },
  {
   "cell_type": "code",
   "execution_count": null,
   "metadata": {},
   "outputs": [],
   "source": []
  }
 ],
 "metadata": {
  "kernelspec": {
   "display_name": "Python 3",
   "language": "python",
   "name": "python3"
  },
  "language_info": {
   "codemirror_mode": {
    "name": "ipython",
    "version": 3
   },
   "file_extension": ".py",
   "mimetype": "text/x-python",
   "name": "python",
   "nbconvert_exporter": "python",
   "pygments_lexer": "ipython3",
   "version": "3.7.5"
  }
 },
 "nbformat": 4,
 "nbformat_minor": 2
}
