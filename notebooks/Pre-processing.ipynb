{
 "cells": [
  {
   "cell_type": "code",
   "execution_count": 1,
   "metadata": {},
   "outputs": [
    {
     "name": "stdout",
     "output_type": "stream",
     "text": [
      "Requirement already satisfied: joblib in /usr/local/lib/python3.6/dist-packages (0.16.0)\r\n"
     ]
    }
   ],
   "source": [
    "!pip install joblib"
   ]
  },
  {
   "cell_type": "code",
   "execution_count": 2,
   "metadata": {},
   "outputs": [],
   "source": [
    "import pandas as pd\n",
    "import numpy as np\n",
    "import re\n",
    "\n",
    "from nltk.corpus import stopwords\n",
    "from textacy.preprocess import preprocess_text as textacy_preprocess\n",
    "\n",
    "from sklearn.model_selection import train_test_split\n",
    "from sklearn.feature_extraction.text import CountVectorizer\n",
    "from sklearn.feature_extraction.text import TfidfTransformer\n",
    "from sklearn.metrics import classification_report, accuracy_score, balanced_accuracy_score\n",
    "from sklearn.svm import SVC\n",
    "from sklearn.model_selection import GridSearchCV\n",
    "from sklearn.ensemble import GradientBoostingClassifier\n",
    "\n",
    "import seaborn as sns\n",
    "import matplotlib.pyplot as plt\n",
    "\n",
    "from collections import Counter\n",
    "import warnings\n",
    "warnings.filterwarnings(\"ignore\")"
   ]
  },
  {
   "cell_type": "code",
   "execution_count": 4,
   "metadata": {},
   "outputs": [],
   "source": [
    "#STOPWORDS_SET = stopwords.words('spanish')\n",
    "\n",
    "EMOJI_PATTERN = re.compile(\"[\"\n",
    "                           u\"\\U0001F600-\\U0001F64F\"  # emoticons\n",
    "                           u\"\\U0001F300-\\U0001F5FF\"  # symbols & pictographs\n",
    "                           u\"\\U0001F680-\\U0001F6FF\"  # transport & map symbols\n",
    "                           u\"\\U0001F1E0-\\U0001F1FF\"  # flags (iOS)\n",
    "                           \"]+\", flags=re.UNICODE)\n",
    "\n",
    "\n",
    "def remove_stopwords(text):\n",
    "    \"\"\"Remove stop words from list of tokenized words.\"\"\"\n",
    "    new_words = [word for word in text.split() if word not in STOPWORDS_SET]\n",
    "    return ' '.join(new_words)\n",
    "\n",
    "\n",
    "def remove_emoticons(text):\n",
    "    \"\"\"Remove emoticos.\"\"\"\n",
    "    return EMOJI_PATTERN.sub('', text)\n",
    "\n",
    "\n",
    "def to_lowercase(text):\n",
    "    \"\"\"To lowercase.\"\"\"\n",
    "    return text.lower()\n",
    "\n",
    "\n",
    "def preprocess_text(text, fix_unicode=True, lowercase=True,\n",
    "                    no_urls=True, no_emails=True,\n",
    "                    no_phone_numbers=True,\n",
    "                    no_numbers=True, no_currency_symbols=True,\n",
    "                    no_punct=True, no_accents=True):\n",
    "    \"\"\"Preprocess text.\"\"\"\n",
    "    clean_text = \"\"\n",
    "    if text:\n",
    "        clean_text = remove_emoticons(text)\n",
    "        if lowercase:\n",
    "            clean_text = to_lowercase(clean_text)\n",
    "#        clean_text = remove_stopwords(clean_text)\n",
    "        clean_text = textacy_preprocess(clean_text, fix_unicode=fix_unicode,\n",
    "                                        lowercase=lowercase,\n",
    "                                        no_urls=no_urls, no_emails=no_emails,\n",
    "                                        no_phone_numbers=no_phone_numbers,\n",
    "                                        no_numbers=no_numbers,\n",
    "                                        no_currency_symbols=no_currency_symbols,\n",
    "                                        no_punct=no_punct,\n",
    "                                        no_accents=no_accents)\n",
    "    return clean_text"
   ]
  },
  {
   "cell_type": "code",
   "execution_count": 6,
   "metadata": {},
   "outputs": [],
   "source": [
    "df = pd.read_csv('data/train.csv',sep = '|')\n",
    "df.columns = ['Pregunta', 'Intencion']"
   ]
  },
  {
   "cell_type": "code",
   "execution_count": 7,
   "metadata": {},
   "outputs": [],
   "source": [
    "df[\"clean_txt\"] = df[\"Pregunta\"].apply(lambda x: preprocess_text(x))"
   ]
  },
  {
   "cell_type": "code",
   "execution_count": 8,
   "metadata": {},
   "outputs": [
    {
     "data": {
      "text/html": [
       "<div>\n",
       "<style scoped>\n",
       "    .dataframe tbody tr th:only-of-type {\n",
       "        vertical-align: middle;\n",
       "    }\n",
       "\n",
       "    .dataframe tbody tr th {\n",
       "        vertical-align: top;\n",
       "    }\n",
       "\n",
       "    .dataframe thead th {\n",
       "        text-align: right;\n",
       "    }\n",
       "</style>\n",
       "<table border=\"1\" class=\"dataframe\">\n",
       "  <thead>\n",
       "    <tr style=\"text-align: right;\">\n",
       "      <th></th>\n",
       "      <th>Pregunta</th>\n",
       "      <th>Intencion</th>\n",
       "      <th>clean_txt</th>\n",
       "    </tr>\n",
       "  </thead>\n",
       "  <tbody>\n",
       "    <tr>\n",
       "      <th>0</th>\n",
       "      <td>como puedo trabajar en santander rio</td>\n",
       "      <td>Cat_102</td>\n",
       "      <td>como puedo trabajar en santander rio</td>\n",
       "    </tr>\n",
       "    <tr>\n",
       "      <th>1</th>\n",
       "      <td>pagar tarjeta visa querer reintegro</td>\n",
       "      <td>Cat_350</td>\n",
       "      <td>pagar tarjeta visa querer reintegro</td>\n",
       "    </tr>\n",
       "    <tr>\n",
       "      <th>2</th>\n",
       "      <td>pagar tarjeta naranja sistema</td>\n",
       "      <td>Cat_132</td>\n",
       "      <td>pagar tarjeta naranja sistema</td>\n",
       "    </tr>\n",
       "    <tr>\n",
       "      <th>3</th>\n",
       "      <td>no se debitó la primera cuota del plan de bien...</td>\n",
       "      <td>Cat_129</td>\n",
       "      <td>no se debito la primera cuota del plan de bien...</td>\n",
       "    </tr>\n",
       "    <tr>\n",
       "      <th>4</th>\n",
       "      <td>abonar tarjeta credito</td>\n",
       "      <td>Cat_342</td>\n",
       "      <td>abonar tarjeta credito</td>\n",
       "    </tr>\n",
       "  </tbody>\n",
       "</table>\n",
       "</div>"
      ],
      "text/plain": [
       "                                            Pregunta Intencion  \\\n",
       "0               como puedo trabajar en santander rio   Cat_102   \n",
       "1                pagar tarjeta visa querer reintegro   Cat_350   \n",
       "2                      pagar tarjeta naranja sistema   Cat_132   \n",
       "3  no se debitó la primera cuota del plan de bien...   Cat_129   \n",
       "4                             abonar tarjeta credito   Cat_342   \n",
       "\n",
       "                                           clean_txt  \n",
       "0               como puedo trabajar en santander rio  \n",
       "1                pagar tarjeta visa querer reintegro  \n",
       "2                      pagar tarjeta naranja sistema  \n",
       "3  no se debito la primera cuota del plan de bien...  \n",
       "4                             abonar tarjeta credito  "
      ]
     },
     "execution_count": 8,
     "metadata": {},
     "output_type": "execute_result"
    }
   ],
   "source": [
    "df.head()"
   ]
  },
  {
   "cell_type": "code",
   "execution_count": 9,
   "metadata": {},
   "outputs": [],
   "source": [
    "df.to_csv(\"data/train_clean.csv\", index=False)"
   ]
  },
  {
   "cell_type": "code",
   "execution_count": 6,
   "metadata": {},
   "outputs": [],
   "source": [
    "df_test = pd.read_csv('data/test_santander.csv')"
   ]
  },
  {
   "cell_type": "code",
   "execution_count": 8,
   "metadata": {},
   "outputs": [
    {
     "data": {
      "text/html": [
       "<div>\n",
       "<style scoped>\n",
       "    .dataframe tbody tr th:only-of-type {\n",
       "        vertical-align: middle;\n",
       "    }\n",
       "\n",
       "    .dataframe tbody tr th {\n",
       "        vertical-align: top;\n",
       "    }\n",
       "\n",
       "    .dataframe thead th {\n",
       "        text-align: right;\n",
       "    }\n",
       "</style>\n",
       "<table border=\"1\" class=\"dataframe\">\n",
       "  <thead>\n",
       "    <tr style=\"text-align: right;\">\n",
       "      <th></th>\n",
       "      <th>id</th>\n",
       "      <th>Pregunta</th>\n",
       "    </tr>\n",
       "  </thead>\n",
       "  <tbody>\n",
       "    <tr>\n",
       "      <th>0</th>\n",
       "      <td>0</td>\n",
       "      <td>querer saber tarjeta sin limite</td>\n",
       "    </tr>\n",
       "    <tr>\n",
       "      <th>1</th>\n",
       "      <td>1</td>\n",
       "      <td>¿cuál es el límite de mi tarjeta santander?</td>\n",
       "    </tr>\n",
       "    <tr>\n",
       "      <th>2</th>\n",
       "      <td>2</td>\n",
       "      <td>hay beneficios en restaurantes de la costa atl...</td>\n",
       "    </tr>\n",
       "    <tr>\n",
       "      <th>3</th>\n",
       "      <td>3</td>\n",
       "      <td>semana realizar pagar afip monotributo volver ...</td>\n",
       "    </tr>\n",
       "    <tr>\n",
       "      <th>4</th>\n",
       "      <td>4</td>\n",
       "      <td>por un prestamo de mil. cuanto es el interes?</td>\n",
       "    </tr>\n",
       "  </tbody>\n",
       "</table>\n",
       "</div>"
      ],
      "text/plain": [
       "   id                                           Pregunta\n",
       "0   0                    querer saber tarjeta sin limite\n",
       "1   1        ¿cuál es el límite de mi tarjeta santander?\n",
       "2   2  hay beneficios en restaurantes de la costa atl...\n",
       "3   3  semana realizar pagar afip monotributo volver ...\n",
       "4   4      por un prestamo de mil. cuanto es el interes?"
      ]
     },
     "execution_count": 8,
     "metadata": {},
     "output_type": "execute_result"
    }
   ],
   "source": [
    "df_test.head()"
   ]
  },
  {
   "cell_type": "code",
   "execution_count": null,
   "metadata": {},
   "outputs": [],
   "source": [
    "df_test[\"clean_txt\"] = df_test[\"Pregunta\"].apply(lambda x: preprocess_text(x))"
   ]
  }
 ],
 "metadata": {
  "kernelspec": {
   "display_name": "Python 3",
   "language": "python",
   "name": "python3"
  },
  "language_info": {
   "codemirror_mode": {
    "name": "ipython",
    "version": 3
   },
   "file_extension": ".py",
   "mimetype": "text/x-python",
   "name": "python",
   "nbconvert_exporter": "python",
   "pygments_lexer": "ipython3",
   "version": "3.8.1"
  }
 },
 "nbformat": 4,
 "nbformat_minor": 2
}
