{
 "cells": [
  {
   "cell_type": "code",
   "execution_count": 10,
   "metadata": {},
   "outputs": [],
   "source": [
    "import pandas as pd\n",
    "from sklearn.model_selection import train_test_split"
   ]
  },
  {
   "cell_type": "code",
   "execution_count": 68,
   "metadata": {},
   "outputs": [],
   "source": [
    "df = pd.read_csv(\"data/train_with_translations_clean.csv\")\n",
    "df = df[[\"clean_txt\", \"clean_txt_T1\", \"Intencion\"]]\n",
    "train_index, test_index = train_test_split(list(df.index), random_state=13571113)\n",
    "train_df = df.iloc[train_index].reset_index().drop(columns=\"index\")\n",
    "test_df = df.iloc[test_index].reset_index().drop(columns=\"index\")\n",
    "thr = train_df[\"Intencion\"].value_counts().values[0] // 2\n",
    "cats_to_popu = [ k for k, v in dict(train_df[\"Intencion\"].value_counts()).items() if v < thr]\n",
    "train_da_df = train_df[train_df[\"Intencion\"].isin(cats_to_popu)][[\"clean_txt_T1\", \"Intencion\"]]\n",
    "train_da_df.columns = [\"clean_txt\", \"Intencion\"]\n",
    "train_df = train_df[[\"clean_txt\", \"Intencion\"]]\n",
    "\n",
    "train_df = pd.concat([train_df, train_da_df])\n",
    "train_df.columns = [\"Pregunta\", \"Intencion\"]\n",
    "\n",
    "test_df = test_df[[\"clean_txt\", \"Intencion\"]]\n",
    "test_df.columns = [\"Pregunta\", \"Intencion\"]"
   ]
  },
  {
   "cell_type": "code",
   "execution_count": null,
   "metadata": {},
   "outputs": [],
   "source": [
    "test_df.to_csv(\"exp1/valid.csv\", index=False)\n",
    "train_df.to_csv(\"exp1/train.csv\", index=False)"
   ]
  },
  {
   "cell_type": "code",
   "execution_count": null,
   "metadata": {},
   "outputs": [],
   "source": [
    "encode_cat = json.load(open(mapping_dict, \"r\"))\n",
    "train_dataset['ENCODE_CAT'] = train_dataset['Intencion'].apply(lambda x: encode_cat(x))\n",
    "test_dataset['ENCODE_CAT'] = test_dataset['Intencion'].apply(lambda x: encode_cat(x))"
   ]
  },
  {
   "cell_type": "code",
   "execution_count": null,
   "metadata": {},
   "outputs": [],
   "source": []
  },
  {
   "cell_type": "markdown",
   "metadata": {},
   "source": [
    "## Translate es --> ar --> es"
   ]
  },
  {
   "cell_type": "code",
   "execution_count": 74,
   "metadata": {},
   "outputs": [],
   "source": [
    "import pandas as pd\n",
    "from tqdm.auto import tqdm\n",
    "from googletrans import Translator"
   ]
  },
  {
   "cell_type": "code",
   "execution_count": 75,
   "metadata": {},
   "outputs": [],
   "source": [
    "translator = Translator()"
   ]
  },
  {
   "cell_type": "code",
   "execution_count": 86,
   "metadata": {},
   "outputs": [],
   "source": [
    "df = pd.read_csv(\"data/train_with_translations_clean.csv\")\n",
    "df_test = pd.read_csv(\"data/test_with_translations_clean.csv\")"
   ]
  },
  {
   "cell_type": "code",
   "execution_count": 87,
   "metadata": {},
   "outputs": [
    {
     "name": "stdout",
     "output_type": "stream",
     "text": [
      "Amount of sentences 20104\n"
     ]
    },
    {
     "data": {
      "text/plain": [
       "['como puedo trabajar en santander rio', 'pagar tarjeta visa querer reintegro']"
      ]
     },
     "execution_count": 87,
     "metadata": {},
     "output_type": "execute_result"
    }
   ],
   "source": [
    "sentences_es = list(df.Pregunta.values)\n",
    "print(f'Amount of sentences {len(sentences_es)}')\n",
    "sentences_es[:2]"
   ]
  },
  {
   "cell_type": "code",
   "execution_count": 88,
   "metadata": {},
   "outputs": [
    {
     "name": "stdout",
     "output_type": "stream",
     "text": [
      "Amount of sentences 6702\n"
     ]
    },
    {
     "data": {
      "text/plain": [
       "['querer saber tarjeta sin limite',\n",
       " '¿cuál es el límite de mi tarjeta santander?']"
      ]
     },
     "execution_count": 88,
     "metadata": {},
     "output_type": "execute_result"
    }
   ],
   "source": [
    "sentences_es_test = list(df_test.Pregunta.values)\n",
    "print(f'Amount of sentences {len(sentences_es_test)}')\n",
    "sentences_es_test[:2]"
   ]
  },
  {
   "cell_type": "code",
   "execution_count": 89,
   "metadata": {},
   "outputs": [
    {
     "data": {
      "application/vnd.jupyter.widget-view+json": {
       "model_id": "04cc471a93a54d2f8b50a9c53fb6e957",
       "version_major": 2,
       "version_minor": 0
      },
      "text/plain": [
       "HBox(children=(IntProgress(value=0, max=20104), HTML(value='')))"
      ]
     },
     "metadata": {},
     "output_type": "display_data"
    },
    {
     "name": "stdout",
     "output_type": "stream",
     "text": [
      "Amount sentences en: 20104\n"
     ]
    },
    {
     "data": {
      "application/vnd.jupyter.widget-view+json": {
       "model_id": "ca2c5ac804d743a498dc3c33744bfcea",
       "version_major": 2,
       "version_minor": 0
      },
      "text/plain": [
       "HBox(children=(IntProgress(value=0, max=20104), HTML(value='')))"
      ]
     },
     "metadata": {},
     "output_type": "display_data"
    },
    {
     "name": "stdout",
     "output_type": "stream",
     "text": [
      "Amount sentences en: 20104\n"
     ]
    },
    {
     "data": {
      "application/vnd.jupyter.widget-view+json": {
       "model_id": "43986ace1a8a4621a1a7ae3b9c28563c",
       "version_major": 2,
       "version_minor": 0
      },
      "text/plain": [
       "HBox(children=(IntProgress(value=0, max=6702), HTML(value='')))"
      ]
     },
     "metadata": {},
     "output_type": "display_data"
    },
    {
     "name": "stdout",
     "output_type": "stream",
     "text": [
      "Amount sentences en: 6702\n"
     ]
    },
    {
     "data": {
      "application/vnd.jupyter.widget-view+json": {
       "model_id": "a12db5a3ec7149ccb44d0920eadb87f0",
       "version_major": 2,
       "version_minor": 0
      },
      "text/plain": [
       "HBox(children=(IntProgress(value=0, max=6702), HTML(value='')))"
      ]
     },
     "metadata": {},
     "output_type": "display_data"
    },
    {
     "name": "stdout",
     "output_type": "stream",
     "text": [
      "Amount sentences en: 6702\n"
     ]
    }
   ],
   "source": [
    "translations_ar = []\n",
    "for sent in tqdm(sentences_es):\n",
    "    translation = translator.translate(sent, src=\"es\", dest=\"ar\").text\n",
    "    translations_ar.append(translation)\n",
    "print(f'Amount sentences en: {len(translations_ar)}')\n",
    "\n",
    "translations_es_back = []\n",
    "for sent in tqdm(translations_ar):\n",
    "    translation = translator.translate(sent, src=\"ar\", dest=\"es\").text\n",
    "    translations_es_back.append(translation)\n",
    "print(f'Amount sentences en: {len(translations_es_back)}')\n",
    "\n",
    "df[\"Pregunta_T4_ar\"] = translations_es_back\n",
    "\n",
    "\n",
    "translations_ar = []\n",
    "for sent in tqdm(sentences_es_test):\n",
    "    translation = translator.translate(sent, src=\"es\", dest=\"ar\").text\n",
    "    translations_ar.append(translation)\n",
    "print(f'Amount sentences en: {len(translations_ar)}')\n",
    "\n",
    "translations_es_back = []\n",
    "for sent in tqdm(translations_ar):\n",
    "    translation = translator.translate(sent, src=\"ar\", dest=\"es\").text\n",
    "    translations_es_back.append(translation)\n",
    "print(f'Amount sentences en: {len(translations_es_back)}')\n",
    "\n",
    "df_test[\"Pregunta_T4_ar\"] = translations_es_back"
   ]
  },
  {
   "cell_type": "code",
   "execution_count": 92,
   "metadata": {},
   "outputs": [
    {
     "name": "stdout",
     "output_type": "stream",
     "text": [
      "Requirement already satisfied: joblib in /Users/nico/miniconda3/envs/keras/lib/python3.7/site-packages (0.13.2)\r\n"
     ]
    }
   ],
   "source": [
    "!pip install joblib"
   ]
  },
  {
   "cell_type": "code",
   "execution_count": 93,
   "metadata": {},
   "outputs": [],
   "source": [
    "from textacy.preprocess import preprocess_text as textacy_preprocess\n",
    "import re\n",
    "EMOJI_PATTERN = re.compile(\"[\"\n",
    "                           u\"\\U0001F600-\\U0001F64F\"  # emoticons\n",
    "                           u\"\\U0001F300-\\U0001F5FF\"  # symbols & pictographs\n",
    "                           u\"\\U0001F680-\\U0001F6FF\"  # transport & map symbols\n",
    "                           u\"\\U0001F1E0-\\U0001F1FF\"  # flags (iOS)\n",
    "                           \"]+\", flags=re.UNICODE)\n",
    "\n",
    "\n",
    "def remove_stopwords(text):\n",
    "    \"\"\"Remove stop words from list of tokenized words.\"\"\"\n",
    "    new_words = [word for word in text.split() if word not in STOPWORDS_SET]\n",
    "    return ' '.join(new_words)\n",
    "\n",
    "\n",
    "def remove_emoticons(text):\n",
    "    \"\"\"Remove emoticos.\"\"\"\n",
    "    return EMOJI_PATTERN.sub('', text)\n",
    "\n",
    "\n",
    "def to_lowercase(text):\n",
    "    \"\"\"To lowercase.\"\"\"\n",
    "    return text.lower()\n",
    "\n",
    "\n",
    "def preprocess_text(text, fix_unicode=True, lowercase=True,\n",
    "                    no_urls=True, no_emails=True,\n",
    "                    no_phone_numbers=True,\n",
    "                    no_numbers=True, no_currency_symbols=True,\n",
    "                    no_punct=True, no_accents=True):\n",
    "    \"\"\"Preprocess text.\"\"\"\n",
    "    clean_text = \"\"\n",
    "    if text:\n",
    "        clean_text = remove_emoticons(text)\n",
    "        if lowercase:\n",
    "            clean_text = to_lowercase(clean_text)\n",
    "#        clean_text = remove_stopwords(clean_text)\n",
    "        clean_text = textacy_preprocess(clean_text, fix_unicode=fix_unicode,\n",
    "                                        lowercase=lowercase,\n",
    "                                        no_urls=no_urls, no_emails=no_emails,\n",
    "                                        no_phone_numbers=no_phone_numbers,\n",
    "                                        no_numbers=no_numbers,\n",
    "                                        no_currency_symbols=no_currency_symbols,\n",
    "                                        no_punct=no_punct,\n",
    "                                        no_accents=no_accents)\n",
    "    return clean_text"
   ]
  },
  {
   "cell_type": "code",
   "execution_count": 95,
   "metadata": {},
   "outputs": [],
   "source": [
    "df[\"clean_txt_T4_ar\"] = df[\"Pregunta_T4_ar\"].apply(lambda x: preprocess_text(x))\n",
    "df_test[\"clean_txt_T4_ar\"] = df_test[\"Pregunta_T4_ar\"].apply(lambda x: preprocess_text(x))"
   ]
  },
  {
   "cell_type": "code",
   "execution_count": 96,
   "metadata": {},
   "outputs": [
    {
     "data": {
      "text/html": [
       "<div>\n",
       "<style scoped>\n",
       "    .dataframe tbody tr th:only-of-type {\n",
       "        vertical-align: middle;\n",
       "    }\n",
       "\n",
       "    .dataframe tbody tr th {\n",
       "        vertical-align: top;\n",
       "    }\n",
       "\n",
       "    .dataframe thead th {\n",
       "        text-align: right;\n",
       "    }\n",
       "</style>\n",
       "<table border=\"1\" class=\"dataframe\">\n",
       "  <thead>\n",
       "    <tr style=\"text-align: right;\">\n",
       "      <th></th>\n",
       "      <th>Pregunta</th>\n",
       "      <th>Intencion</th>\n",
       "      <th>Pregunta_T1</th>\n",
       "      <th>clean_txt</th>\n",
       "      <th>clean_txt_T1</th>\n",
       "      <th>Pregunta_T2_fr</th>\n",
       "      <th>clean_txt_T2_fr</th>\n",
       "      <th>Pregunta_T4_ar</th>\n",
       "      <th>clean_txt_T4_ar</th>\n",
       "    </tr>\n",
       "  </thead>\n",
       "  <tbody>\n",
       "    <tr>\n",
       "      <th>0</th>\n",
       "      <td>como puedo trabajar en santander rio</td>\n",
       "      <td>Cat_102</td>\n",
       "      <td>¿Cómo puedo trabajar en Santander Rio?</td>\n",
       "      <td>como puedo trabajar en santander rio</td>\n",
       "      <td>como puedo trabajar en santander rio</td>\n",
       "      <td>¿Cómo puedo trabajar en Santander Rio?</td>\n",
       "      <td>como puedo trabajar en santander rio</td>\n",
       "      <td>¿Cómo puedo trabajar en Santander Rio?</td>\n",
       "      <td>como puedo trabajar en santander rio</td>\n",
       "    </tr>\n",
       "    <tr>\n",
       "      <th>1</th>\n",
       "      <td>pagar tarjeta visa querer reintegro</td>\n",
       "      <td>Cat_350</td>\n",
       "      <td>pagar tarjeta visa quiere reembolso</td>\n",
       "      <td>pagar tarjeta visa querer reintegro</td>\n",
       "      <td>pagar tarjeta visa quiere reembolso</td>\n",
       "      <td>pagar la tarjeta visa quiere un reembolso</td>\n",
       "      <td>pagar la tarjeta visa quiere un reembolso</td>\n",
       "      <td>Pague la tarjeta Visa que desea un reembolso</td>\n",
       "      <td>pague la tarjeta visa que desea un reembolso</td>\n",
       "    </tr>\n",
       "    <tr>\n",
       "      <th>2</th>\n",
       "      <td>pagar tarjeta naranja sistema</td>\n",
       "      <td>Cat_132</td>\n",
       "      <td>tarjeta naranja del sistema de pago</td>\n",
       "      <td>pagar tarjeta naranja sistema</td>\n",
       "      <td>tarjeta naranja del sistema de pago</td>\n",
       "      <td>sistema de pago con tarjeta naranja</td>\n",
       "      <td>sistema de pago con tarjeta naranja</td>\n",
       "      <td>Sistema de pago con tarjeta naranja</td>\n",
       "      <td>sistema de pago con tarjeta naranja</td>\n",
       "    </tr>\n",
       "    <tr>\n",
       "      <th>3</th>\n",
       "      <td>no se debitó la primera cuota del plan de bien...</td>\n",
       "      <td>Cat_129</td>\n",
       "      <td>la primera cuota del plan de propiedad persona...</td>\n",
       "      <td>no se debito la primera cuota del plan de bien...</td>\n",
       "      <td>la primera cuota del plan de propiedad persona...</td>\n",
       "      <td>la primera parte del plan de propiedad persona...</td>\n",
       "      <td>la primera parte del plan de propiedad persona...</td>\n",
       "      <td>La primera parte del plan de propiedad persona...</td>\n",
       "      <td>la primera parte del plan de propiedad persona...</td>\n",
       "    </tr>\n",
       "    <tr>\n",
       "      <th>4</th>\n",
       "      <td>abonar tarjeta credito</td>\n",
       "      <td>Cat_342</td>\n",
       "      <td>tarjeta de crédito</td>\n",
       "      <td>abonar tarjeta credito</td>\n",
       "      <td>tarjeta de credito</td>\n",
       "      <td>tarjeta de crédito</td>\n",
       "      <td>tarjeta de credito</td>\n",
       "      <td>Tarjeta de crédito</td>\n",
       "      <td>tarjeta de credito</td>\n",
       "    </tr>\n",
       "  </tbody>\n",
       "</table>\n",
       "</div>"
      ],
      "text/plain": [
       "                                            Pregunta Intencion  \\\n",
       "0               como puedo trabajar en santander rio   Cat_102   \n",
       "1                pagar tarjeta visa querer reintegro   Cat_350   \n",
       "2                      pagar tarjeta naranja sistema   Cat_132   \n",
       "3  no se debitó la primera cuota del plan de bien...   Cat_129   \n",
       "4                             abonar tarjeta credito   Cat_342   \n",
       "\n",
       "                                         Pregunta_T1  \\\n",
       "0             ¿Cómo puedo trabajar en Santander Rio?   \n",
       "1                pagar tarjeta visa quiere reembolso   \n",
       "2                tarjeta naranja del sistema de pago   \n",
       "3  la primera cuota del plan de propiedad persona...   \n",
       "4                                 tarjeta de crédito   \n",
       "\n",
       "                                           clean_txt  \\\n",
       "0               como puedo trabajar en santander rio   \n",
       "1                pagar tarjeta visa querer reintegro   \n",
       "2                      pagar tarjeta naranja sistema   \n",
       "3  no se debito la primera cuota del plan de bien...   \n",
       "4                             abonar tarjeta credito   \n",
       "\n",
       "                                        clean_txt_T1  \\\n",
       "0               como puedo trabajar en santander rio   \n",
       "1                pagar tarjeta visa quiere reembolso   \n",
       "2                tarjeta naranja del sistema de pago   \n",
       "3  la primera cuota del plan de propiedad persona...   \n",
       "4                                 tarjeta de credito   \n",
       "\n",
       "                                      Pregunta_T2_fr  \\\n",
       "0             ¿Cómo puedo trabajar en Santander Rio?   \n",
       "1          pagar la tarjeta visa quiere un reembolso   \n",
       "2                sistema de pago con tarjeta naranja   \n",
       "3  la primera parte del plan de propiedad persona...   \n",
       "4                                 tarjeta de crédito   \n",
       "\n",
       "                                     clean_txt_T2_fr  \\\n",
       "0               como puedo trabajar en santander rio   \n",
       "1          pagar la tarjeta visa quiere un reembolso   \n",
       "2                sistema de pago con tarjeta naranja   \n",
       "3  la primera parte del plan de propiedad persona...   \n",
       "4                                 tarjeta de credito   \n",
       "\n",
       "                                      Pregunta_T4_ar  \\\n",
       "0             ¿Cómo puedo trabajar en Santander Rio?   \n",
       "1       Pague la tarjeta Visa que desea un reembolso   \n",
       "2                Sistema de pago con tarjeta naranja   \n",
       "3  La primera parte del plan de propiedad persona...   \n",
       "4                                 Tarjeta de crédito   \n",
       "\n",
       "                                     clean_txt_T4_ar  \n",
       "0               como puedo trabajar en santander rio  \n",
       "1       pague la tarjeta visa que desea un reembolso  \n",
       "2                sistema de pago con tarjeta naranja  \n",
       "3  la primera parte del plan de propiedad persona...  \n",
       "4                                 tarjeta de credito  "
      ]
     },
     "execution_count": 96,
     "metadata": {},
     "output_type": "execute_result"
    }
   ],
   "source": [
    "df.head()"
   ]
  },
  {
   "cell_type": "code",
   "execution_count": 98,
   "metadata": {},
   "outputs": [],
   "source": [
    "df_ = pd.read_csv(\"data/train_with_translations_clean.csv\")\n",
    "df_test_ = pd.read_csv(\"data/test_with_translations_clean.csv\")"
   ]
  },
  {
   "cell_type": "code",
   "execution_count": 101,
   "metadata": {},
   "outputs": [],
   "source": [
    "df_[\"clean_txt_T4_ar\"] = df[\"clean_txt_T4_ar\"]\n",
    "df_test_[\"clean_txt_T4_ar\"] = df_test[\"clean_txt_T4_ar\"]\n",
    "df_[\"Pregunta_T4_ar\"] = df[\"Pregunta_T4_ar\"]\n",
    "df_test_[\"Pregunta_T4_ar\"] = df_test[\"Pregunta_T4_ar\"]"
   ]
  },
  {
   "cell_type": "code",
   "execution_count": 104,
   "metadata": {},
   "outputs": [],
   "source": [
    "df_.to_csv(\"data/train_with_translations_clean.csv\", index=False)\n",
    "df_test_.to_csv(\"data/test_with_translations_clean.csv\", index=False)"
   ]
  },
  {
   "cell_type": "code",
   "execution_count": 109,
   "metadata": {},
   "outputs": [],
   "source": [
    "import seaborn as sns"
   ]
  },
  {
   "cell_type": "code",
   "execution_count": 111,
   "metadata": {},
   "outputs": [
    {
     "name": "stdout",
     "output_type": "stream",
     "text": [
      "300\n",
      "Amount categories to populate : 333\n",
      "300\n",
      "Amount categories to populate : 330\n",
      "300\n",
      "Amount categories to populate : 320\n",
      "300\n",
      "Amount categories to populate : 292\n"
     ]
    }
   ],
   "source": [
    "columns = [\"clean_txt_T1\", \"clean_txt_T2_fr\", \"clean_txt_T3_pt\", \"clean_txt_T4_ar\"]\n",
    "df = df_[columns + [\"clean_txt\", \"Intencion\"]]\n",
    "df0 = df[[\"clean_txt\", \"Intencion\"]].copy()\n",
    "for col in columns:\n",
    "    thr = df0[\"Intencion\"].value_counts().values[0] // 2\n",
    "    print(thr)\n",
    "    cats_to_popu = [ k for k, v in dict(df0[\"Intencion\"].value_counts()).items() if v < thr]\n",
    "    print(f'Amount categories to populate : {len(cats_to_popu)}')\n",
    "    df1 = df[df[\"Intencion\"].isin(cats_to_popu)][[col, \"Intencion\"]].copy()\n",
    "    df1.columns = [\"clean_txt\", \"Intencion\"]\n",
    "    df0 = pd.concat([df0, df1])"
   ]
  },
  {
   "cell_type": "code",
   "execution_count": 112,
   "metadata": {},
   "outputs": [
    {
     "data": {
      "text/plain": [
       "<matplotlib.axes._subplots.AxesSubplot at 0x1271fc850>"
      ]
     },
     "execution_count": 112,
     "metadata": {},
     "output_type": "execute_result"
    },
    {
     "data": {
      "image/png": "[encoded data removed]",
      "text/plain": [
       "<Figure size 432x288 with 1 Axes>"
      ]
     },
     "metadata": {
      "needs_background": "light"
     },
     "output_type": "display_data"
    }
   ],
   "source": [
    "sns.lineplot(data=pd.DataFrame(list(df0.Intencion.value_counts().values)))"
   ]
  },
  {
   "cell_type": "code",
   "execution_count": null,
   "metadata": {},
   "outputs": [],
   "source": []
  }
 ],
 "metadata": {
  "kernelspec": {
   "display_name": "Python 3",
   "language": "python",
   "name": "python3"
  },
  "language_info": {
   "codemirror_mode": {
    "name": "ipython",
    "version": 3
   },
   "file_extension": ".py",
   "mimetype": "text/x-python",
   "name": "python",
   "nbconvert_exporter": "python",
   "pygments_lexer": "ipython3",
   "version": "3.7.5"
  }
 },
 "nbformat": 4,
 "nbformat_minor": 2
}
